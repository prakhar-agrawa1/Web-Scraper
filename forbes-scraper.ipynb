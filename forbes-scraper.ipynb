{
 "cells": [
  {
   "cell_type": "markdown",
   "id": "35422f63",
   "metadata": {},
   "source": [
    "# Scraping Forbes by Topics"
   ]
  },
  {
   "cell_type": "markdown",
   "id": "7d3b4067",
   "metadata": {},
   "source": [
    "- We are scraping forbes.com by topics, which appear as \"/{topic}\" in front of the base site URL\n",
    "- We will get a list of topics, which includes the title and URL\n",
    "- For each topic, we will get the top 25 stories\n",
    "- For each story, we will grab its name, author(s), author type(s) - staff, contributor, etc., date, and URL\n",
    "- For each topic, we will create a CSV in the format:\n",
    "```\n",
    "Article Name, Description, Author(s),Author Type(s),Date,Article URL\n",
    "\n",
    "InnovationRx: Phil Knight’s $2 Billion Cancer Gift,\"Amy Feldman, Alex Knapp\",\"Forbes Staff, Forbes Staff\",\"Aug 20, 2025\",https://www.forbes.com/sites/innovationrx/2025/08/20/innovationrx-phil-knights-2-billion-cancer-gift/?ss=ai\n",
    "\n",
    "\"AI Therapists Belong In The Back Office, Not The Chair\",John Samuels,Contributor,\"Aug 19, 2025\",https://www.forbes.com/sites/johnsamuels/2025/08/19/ai-therapists-belong-in-the-back-office-not-the-chair/?ss=ai\n",
    "```"
   ]
  },
  {
   "cell_type": "markdown",
   "id": "c0b50c3a",
   "metadata": {},
   "source": [
    "### Use the Requests library to load pages"
   ]
  },
  {
   "cell_type": "markdown",
   "id": "6e85bc53",
   "metadata": {},
   "source": [
    "Install and import"
   ]
  },
  {
   "cell_type": "code",
   "execution_count": 1,
   "id": "d1dd6acf",
   "metadata": {},
   "outputs": [
    {
     "name": "stdout",
     "output_type": "stream",
     "text": [
      "Note: you may need to restart the kernel to use updated packages.\n"
     ]
    }
   ],
   "source": [
    "%pip install requests --upgrade --quiet\n",
    "import requests"
   ]
  },
  {
   "cell_type": "markdown",
   "id": "0b95e749",
   "metadata": {},
   "source": [
    "Save page into a local file"
   ]
  },
  {
   "cell_type": "code",
   "execution_count": 2,
   "id": "77a19167",
   "metadata": {},
   "outputs": [],
   "source": [
    "forbes_home = requests.get('https://forbes.com').text\n",
    "with open('home-page.html', 'w+') as f:\n",
    "  f.write(forbes_home)"
   ]
  },
  {
   "cell_type": "markdown",
   "id": "04f087bc",
   "metadata": {},
   "source": [
    "### Use Beautiful Soup to parse and extract information"
   ]
  },
  {
   "cell_type": "markdown",
   "id": "e7e62e56",
   "metadata": {},
   "source": [
    "Install and import"
   ]
  },
  {
   "cell_type": "code",
   "execution_count": 3,
   "id": "8cc62650",
   "metadata": {},
   "outputs": [
    {
     "name": "stdout",
     "output_type": "stream",
     "text": [
      "Note: you may need to restart the kernel to use updated packages.\n"
     ]
    }
   ],
   "source": [
    "%pip install beautifulsoup4 --upgrade --quiet\n",
    "from bs4 import BeautifulSoup"
   ]
  },
  {
   "cell_type": "markdown",
   "id": "e5868fb5",
   "metadata": {},
   "source": [
    "Grab all \"a\" tags containing similar attribute content for story topics. In this case, attribute \"data-ga-track\" starting with \"hamburger-L2\". In addition, ignore Paid Program topics"
   ]
  },
  {
   "cell_type": "code",
   "execution_count": 4,
   "id": "bc6c889d",
   "metadata": {},
   "outputs": [],
   "source": [
    "a_html = ''\n",
    "article_tags = []\n",
    "\n",
    "a_tags = BeautifulSoup(forbes_home, 'html.parser').find_all('a')\n",
    "\n",
    "for a in a_tags:\n",
    "  a_str = a.prettify()\n",
    "  if 'data-ga-track=\"hamburger-L2' in a_str:\n",
    "    if not '| Paid Program' in a_str:\n",
    "      a_html += a_str\n",
    "      article_tags.append(a)"
   ]
  },
  {
   "cell_type": "markdown",
   "id": "c0f38de9",
   "metadata": {},
   "source": [
    "- Create a class for extracting basic information out of topic tags\n",
    "- Create a list of objects of that class"
   ]
  },
  {
   "cell_type": "code",
   "execution_count": 5,
   "id": "fd3e5018",
   "metadata": {},
   "outputs": [],
   "source": [
    "class topic_url:\n",
    "  def __init__(self, name, href):\n",
    "    self.name = name\n",
    "    self.link = href\n",
    "  def printer(self):\n",
    "    print(self.name, self.link)\n",
    "\n",
    "topics_urls = []\n",
    "\n",
    "for tag in article_tags:\n",
    "  try:\n",
    "    topics_urls.append(topic_url(str(tag.string), tag['href']))\n",
    "  except:\n",
    "    continue"
   ]
  },
  {
   "cell_type": "markdown",
   "id": "ade0b15a",
   "metadata": {},
   "source": [
    "### Use Pandas to map out topics data"
   ]
  },
  {
   "cell_type": "markdown",
   "id": "4ef26745",
   "metadata": {},
   "source": [
    "Install and import"
   ]
  },
  {
   "cell_type": "code",
   "execution_count": 6,
   "id": "9ee0b054",
   "metadata": {},
   "outputs": [
    {
     "name": "stdout",
     "output_type": "stream",
     "text": [
      "Note: you may need to restart the kernel to use updated packages.\n"
     ]
    }
   ],
   "source": [
    "%pip install pandas --upgrade --quiet\n",
    "import pandas as pd"
   ]
  },
  {
   "cell_type": "code",
   "execution_count": 7,
   "id": "020dd355",
   "metadata": {},
   "outputs": [
    {
     "data": {
      "text/html": [
       "<div>\n",
       "<style scoped>\n",
       "    .dataframe tbody tr th:only-of-type {\n",
       "        vertical-align: middle;\n",
       "    }\n",
       "\n",
       "    .dataframe tbody tr th {\n",
       "        vertical-align: top;\n",
       "    }\n",
       "\n",
       "    .dataframe thead th {\n",
       "        text-align: right;\n",
       "    }\n",
       "</style>\n",
       "<table border=\"1\" class=\"dataframe\">\n",
       "  <thead>\n",
       "    <tr style=\"text-align: right;\">\n",
       "      <th></th>\n",
       "      <th>Topic</th>\n",
       "      <th>URL</th>\n",
       "    </tr>\n",
       "  </thead>\n",
       "  <tbody>\n",
       "    <tr>\n",
       "      <th>0</th>\n",
       "      <td>Best-In-State Top Next-Gen Wealth Advisors 2025</td>\n",
       "      <td>https://www.forbes.com/lists/best-in-state-nex...</td>\n",
       "    </tr>\n",
       "    <tr>\n",
       "      <th>1</th>\n",
       "      <td>Breaking News</td>\n",
       "      <td>https://www.forbes.com/news/</td>\n",
       "    </tr>\n",
       "    <tr>\n",
       "      <th>2</th>\n",
       "      <td>White House Watch</td>\n",
       "      <td>https://www.forbes.com/trump/</td>\n",
       "    </tr>\n",
       "    <tr>\n",
       "      <th>3</th>\n",
       "      <td>Daily Cover Stories</td>\n",
       "      <td>https://www.forbes.com/daily-cover-stories/</td>\n",
       "    </tr>\n",
       "    <tr>\n",
       "      <th>4</th>\n",
       "      <td>AI’s Nuanced Impact And A Quest To Quantify It</td>\n",
       "      <td>https://www.forbes.com/sites/forbes-research/2...</td>\n",
       "    </tr>\n",
       "    <tr>\n",
       "      <th>...</th>\n",
       "      <td>...</td>\n",
       "      <td>...</td>\n",
       "    </tr>\n",
       "    <tr>\n",
       "      <th>138</th>\n",
       "      <td>Pinpoint by LinkedIn</td>\n",
       "      <td>https://www.forbes.com/games/pinpoint/</td>\n",
       "    </tr>\n",
       "    <tr>\n",
       "      <th>139</th>\n",
       "      <td>Queens by LinkedIn</td>\n",
       "      <td>https://www.forbes.com/games/queens/</td>\n",
       "    </tr>\n",
       "    <tr>\n",
       "      <th>140</th>\n",
       "      <td>Crossclimb by LinkedIn</td>\n",
       "      <td>https://www.forbes.com/games/crossclimb/</td>\n",
       "    </tr>\n",
       "    <tr>\n",
       "      <th>141</th>\n",
       "      <td>Forbes Video</td>\n",
       "      <td>https://www.forbes.com/video/</td>\n",
       "    </tr>\n",
       "    <tr>\n",
       "      <th>142</th>\n",
       "      <td>Forbes 101</td>\n",
       "      <td>https://www.forbes.com/forbes-101/</td>\n",
       "    </tr>\n",
       "  </tbody>\n",
       "</table>\n",
       "<p>143 rows × 2 columns</p>\n",
       "</div>"
      ],
      "text/plain": [
       "                                               Topic  \\\n",
       "0    Best-In-State Top Next-Gen Wealth Advisors 2025   \n",
       "1                                      Breaking News   \n",
       "2                                  White House Watch   \n",
       "3                                Daily Cover Stories   \n",
       "4     AI’s Nuanced Impact And A Quest To Quantify It   \n",
       "..                                               ...   \n",
       "138                             Pinpoint by LinkedIn   \n",
       "139                               Queens by LinkedIn   \n",
       "140                           Crossclimb by LinkedIn   \n",
       "141                                     Forbes Video   \n",
       "142                                       Forbes 101   \n",
       "\n",
       "                                                   URL  \n",
       "0    https://www.forbes.com/lists/best-in-state-nex...  \n",
       "1                         https://www.forbes.com/news/  \n",
       "2                        https://www.forbes.com/trump/  \n",
       "3          https://www.forbes.com/daily-cover-stories/  \n",
       "4    https://www.forbes.com/sites/forbes-research/2...  \n",
       "..                                                 ...  \n",
       "138             https://www.forbes.com/games/pinpoint/  \n",
       "139               https://www.forbes.com/games/queens/  \n",
       "140           https://www.forbes.com/games/crossclimb/  \n",
       "141                      https://www.forbes.com/video/  \n",
       "142                 https://www.forbes.com/forbes-101/  \n",
       "\n",
       "[143 rows x 2 columns]"
      ]
     },
     "execution_count": 7,
     "metadata": {},
     "output_type": "execute_result"
    }
   ],
   "source": [
    "topics_df = pd.DataFrame({'Topic': [topic.name for topic in topics_urls], 'URL': [topic.link for topic in topics_urls]})\n",
    "topics_df.to_csv('data/topics.csv')\n",
    "topics_df"
   ]
  },
  {
   "cell_type": "markdown",
   "id": "12495f9f",
   "metadata": {},
   "source": [
    "### Repeat process for each topic"
   ]
  },
  {
   "cell_type": "markdown",
   "id": "19b1f229",
   "metadata": {},
   "source": [
    "Load topic pages, work from description tags"
   ]
  },
  {
   "cell_type": "code",
   "execution_count": 8,
   "id": "8cb9cdad",
   "metadata": {},
   "outputs": [
    {
     "name": "stdout",
     "output_type": "stream",
     "text": [
      "<div class=\"WjVFB823\"><div class=\"IE8ecQMQ\"><span class=\"ycHdAQ4U jMF46RP6\">1 hour ago</span></div><h3 class=\"HNChVRGc\"><a class=\"_1-FLFW4R\" href=\"https://www.forbes.com/sites/antoniopequenoiv/2025/09/03/trump-administrations-22-billion-harvard-funding-freeze-ruled-unconstitutional/\" rel=\"\" target=\"_self\">Trump Administration’s $2.2 Billion Harvard Funding Freeze Ruled Unconstitutional</a></h3><p class=\"_5v7prWgS\"><span class=\"Ccg9Ib-7\" style=\"-webkit-line-clamp:3\"></span></p><div class=\"Na3NTglQ _51GWpoAk _0AGvFFWM\"><p class=\"ujvJmzbB\">By<a aria-label=\"Antonio Pequeño IV\" class=\"_4tin10wS YbfXuVMn\" href=\"https://www.forbes.com/sites/antoniopequenoiv/\" target=\"_self\" title=\"https://www.forbes.com/sites/antoniopequenoiv/\">Antonio Pequeño IV</a><span class=\"S7tzPEZ-\">,</span></p><p class=\"AtUb4gy8\">Forbes Staff</p></div><div class=\"klKBDGvF\"><button aria-label=\"save article\" class=\"sElHJWe4 NQX0jJYe\" data-theme=\"light\" disabled=\"\" type=\"button\"><svg class=\"fs-icon fs-icon--saved-article\" viewbox=\"0 0 20 20\" x=\"0\" xml:space=\"preserve\" xmlns=\"http://www.w3.org/2000/svg\" y=\"0\"><path d=\"M13.9 3c.7 0 1.3.6 1.3 1.3V17L10 13.9 4.8 17V4.3c0-.7.5-1.3 1.3-1.3h7.8z\"></path></svg></button></div></div>\n",
      "<div class=\"WjVFB823\"><div class=\"IE8ecQMQ\"><span class=\"ycHdAQ4U jMF46RP6\">4 hours ago</span></div><h3 class=\"HNChVRGc\"><a class=\"_1-FLFW4R\" href=\"https://www.forbes.com/sites/conormurray/2025/09/03/roblox-adds-new-age-estimation-feature-as-controversy-over-child-safety-grows/\" rel=\"\" target=\"_self\">Roblox Adds New Age Estimation Feature As Controversy Over Child Safety Grows</a></h3><p class=\"_5v7prWgS\"><span class=\"Ccg9Ib-7\" style=\"-webkit-line-clamp:3\"></span></p><div class=\"Na3NTglQ _51GWpoAk _0AGvFFWM\"><p class=\"ujvJmzbB\">By<a aria-label=\"Conor Murray\" class=\"_4tin10wS YbfXuVMn\" href=\"https://www.forbes.com/sites/conormurray/\" target=\"_self\" title=\"https://www.forbes.com/sites/conormurray/\">Conor Murray</a><span class=\"S7tzPEZ-\">,</span></p><p class=\"AtUb4gy8\">Forbes Staff</p></div><div class=\"klKBDGvF\"><button aria-label=\"save article\" class=\"sElHJWe4 NQX0jJYe\" data-theme=\"light\" disabled=\"\" type=\"button\"><svg class=\"fs-icon fs-icon--saved-article\" viewbox=\"0 0 20 20\" x=\"0\" xml:space=\"preserve\" xmlns=\"http://www.w3.org/2000/svg\" y=\"0\"><path d=\"M13.9 3c.7 0 1.3.6 1.3 1.3V17L10 13.9 4.8 17V4.3c0-.7.5-1.3 1.3-1.3h7.8z\"></path></svg></button></div></div>\n",
      "<div class=\"WjVFB823\"><div class=\"IE8ecQMQ\"><span class=\"ycHdAQ4U jMF46RP6\">4 hours ago</span></div><h3 class=\"HNChVRGc\"><a class=\"_1-FLFW4R\" href=\"https://www.forbes.com/sites/antoniopequenoiv/2025/09/03/nfl-redzone-will-have-commercials-this-season-host-scott-hanson-says/\" rel=\"\" target=\"_self\">NFL RedZone Will Have Commercials This Season, Host Scott Hanson Says</a></h3><p class=\"_5v7prWgS\"><span class=\"Ccg9Ib-7\" style=\"-webkit-line-clamp:3\"></span></p><div class=\"Na3NTglQ _51GWpoAk _0AGvFFWM\"><p class=\"ujvJmzbB\">By<a aria-label=\"Antonio Pequeño IV\" class=\"_4tin10wS YbfXuVMn\" href=\"https://www.forbes.com/sites/antoniopequenoiv/\" target=\"_self\" title=\"https://www.forbes.com/sites/antoniopequenoiv/\">Antonio Pequeño IV</a><span class=\"S7tzPEZ-\">,</span></p><p class=\"AtUb4gy8\">Forbes Staff</p></div><div class=\"klKBDGvF\"><button aria-label=\"save article\" class=\"sElHJWe4 NQX0jJYe\" data-theme=\"light\" disabled=\"\" type=\"button\"><svg class=\"fs-icon fs-icon--saved-article\" viewbox=\"0 0 20 20\" x=\"0\" xml:space=\"preserve\" xmlns=\"http://www.w3.org/2000/svg\" y=\"0\"><path d=\"M13.9 3c.7 0 1.3.6 1.3 1.3V17L10 13.9 4.8 17V4.3c0-.7.5-1.3 1.3-1.3h7.8z\"></path></svg></button></div></div>\n",
      "<div class=\"WjVFB823\"><div class=\"IE8ecQMQ\"><span class=\"ycHdAQ4U jMF46RP6\">4 hours ago</span></div><h3 class=\"HNChVRGc\"><a class=\"_1-FLFW4R\" href=\"https://www.forbes.com/sites/maryroeloffs/2025/09/03/from-taylor-swifts-ring-to-naomi-osakas-labubus-these-viral-celebrity-accessories-are-from-small-businesses/\" rel=\"\" target=\"_self\">From Taylor Swift's Ring To Naomi Osaka's Labubus: These Viral Celebrity Accessories Are From Small Businesses</a></h3><p class=\"_5v7prWgS\"><span class=\"Ccg9Ib-7\" style=\"-webkit-line-clamp:3\"></span></p><div class=\"Na3NTglQ _51GWpoAk _0AGvFFWM\"><p class=\"ujvJmzbB\">By<a aria-label=\"Mary Whitfill Roeloffs\" class=\"_4tin10wS YbfXuVMn\" href=\"https://www.forbes.com/sites/maryroeloffs/\" target=\"_self\" title=\"https://www.forbes.com/sites/maryroeloffs/\">Mary Whitfill Roeloffs</a><span class=\"S7tzPEZ-\">,</span></p><p class=\"AtUb4gy8\">Forbes Staff</p></div><div class=\"klKBDGvF\"><button aria-label=\"save article\" class=\"sElHJWe4 NQX0jJYe\" data-theme=\"light\" disabled=\"\" type=\"button\"><svg class=\"fs-icon fs-icon--saved-article\" viewbox=\"0 0 20 20\" x=\"0\" xml:space=\"preserve\" xmlns=\"http://www.w3.org/2000/svg\" y=\"0\"><path d=\"M13.9 3c.7 0 1.3.6 1.3 1.3V17L10 13.9 4.8 17V4.3c0-.7.5-1.3 1.3-1.3h7.8z\"></path></svg></button></div></div>\n",
      "<div class=\"WjVFB823\"><div class=\"IE8ecQMQ\"><span class=\"ycHdAQ4U jMF46RP6\">5 hours ago</span></div><h3 class=\"HNChVRGc\"><a class=\"_1-FLFW4R\" href=\"https://www.forbes.com/sites/alisondurkee/2025/09/03/trump-wants-supreme-court-to-decide-whether-he-sexually-abused-e-jean-carroll/\" rel=\"\" target=\"_self\">Trump Wants Supreme Court To Decide Whether He Sexually Abused E. Jean Carroll</a></h3><p class=\"_5v7prWgS\"><span class=\"Ccg9Ib-7\" style=\"-webkit-line-clamp:3\"></span></p><div class=\"Na3NTglQ _51GWpoAk _0AGvFFWM\"><p class=\"ujvJmzbB\">By<a aria-label=\"Alison Durkee\" class=\"_4tin10wS YbfXuVMn\" href=\"https://www.forbes.com/sites/alisondurkee/\" target=\"_self\" title=\"https://www.forbes.com/sites/alisondurkee/\">Alison Durkee</a><span class=\"S7tzPEZ-\">,</span></p><p class=\"AtUb4gy8\">Forbes Staff</p></div><div class=\"klKBDGvF\"><button aria-label=\"save article\" class=\"sElHJWe4 NQX0jJYe\" data-theme=\"light\" disabled=\"\" type=\"button\"><svg class=\"fs-icon fs-icon--saved-article\" viewbox=\"0 0 20 20\" x=\"0\" xml:space=\"preserve\" xmlns=\"http://www.w3.org/2000/svg\" y=\"0\"><path d=\"M13.9 3c.7 0 1.3.6 1.3 1.3V17L10 13.9 4.8 17V4.3c0-.7.5-1.3 1.3-1.3h7.8z\"></path></svg></button></div></div>\n",
      "<div class=\"WjVFB823\"><div class=\"IE8ecQMQ\"><span class=\"ycHdAQ4U jMF46RP6\">5 hours ago</span></div><h3 class=\"HNChVRGc\"><a class=\"_1-FLFW4R\" href=\"https://www.forbes.com/sites/saradorn/2025/09/03/trump-approval-rating-unchanged-from-last-week-at-41-in-latest-poll/\" rel=\"\" target=\"_self\">Trump Approval Rating: Unchanged From Last Week At 41% In Latest Poll</a></h3><p class=\"_5v7prWgS\"><span class=\"Ccg9Ib-7\" style=\"-webkit-line-clamp:3\"></span></p><div class=\"Na3NTglQ _51GWpoAk _0AGvFFWM\"><p class=\"ujvJmzbB\">By<a aria-label=\"Sara Dorn\" class=\"_4tin10wS YbfXuVMn\" href=\"https://www.forbes.com/sites/saradorn/\" target=\"_self\" title=\"https://www.forbes.com/sites/saradorn/\">Sara Dorn</a><span class=\"S7tzPEZ-\">,</span></p><p class=\"AtUb4gy8\">Forbes Staff</p></div><div class=\"klKBDGvF\"><button aria-label=\"save article\" class=\"sElHJWe4 NQX0jJYe\" data-theme=\"light\" disabled=\"\" type=\"button\"><svg class=\"fs-icon fs-icon--saved-article\" viewbox=\"0 0 20 20\" x=\"0\" xml:space=\"preserve\" xmlns=\"http://www.w3.org/2000/svg\" y=\"0\"><path d=\"M13.9 3c.7 0 1.3.6 1.3 1.3V17L10 13.9 4.8 17V4.3c0-.7.5-1.3 1.3-1.3h7.8z\"></path></svg></button></div></div>\n",
      "<div class=\"WjVFB823\"><div class=\"IE8ecQMQ\"><span class=\"ycHdAQ4U jMF46RP6\">6 hours ago</span></div><h3 class=\"HNChVRGc\"><a class=\"_1-FLFW4R\" href=\"https://www.forbes.com/sites/zacharyfolk/2025/09/03/epstein-victims-blast-trumps-hoax-label-as-president-doubles-down/\" rel=\"\" target=\"_self\">Epstein Victims Blast Trump’s ‘Hoax’ Label As President Doubles Down</a></h3><p class=\"_5v7prWgS\"><span class=\"Ccg9Ib-7\" style=\"-webkit-line-clamp:3\"></span></p><div class=\"Na3NTglQ _51GWpoAk _0AGvFFWM\"><p class=\"ujvJmzbB\">By<a aria-label=\"Zachary Folk\" class=\"_4tin10wS YbfXuVMn\" href=\"https://www.forbes.com/sites/zacharyfolk/\" target=\"_self\" title=\"https://www.forbes.com/sites/zacharyfolk/\">Zachary Folk</a><span class=\"S7tzPEZ-\">,</span></p><p class=\"AtUb4gy8\">Forbes Staff</p></div><div class=\"klKBDGvF\"><button aria-label=\"save article\" class=\"sElHJWe4 NQX0jJYe\" data-theme=\"light\" disabled=\"\" type=\"button\"><svg class=\"fs-icon fs-icon--saved-article\" viewbox=\"0 0 20 20\" x=\"0\" xml:space=\"preserve\" xmlns=\"http://www.w3.org/2000/svg\" y=\"0\"><path d=\"M13.9 3c.7 0 1.3.6 1.3 1.3V17L10 13.9 4.8 17V4.3c0-.7.5-1.3 1.3-1.3h7.8z\"></path></svg></button></div></div>\n",
      "<div class=\"WjVFB823\"><div class=\"IE8ecQMQ\"><span class=\"ycHdAQ4U jMF46RP6\">6 hours ago</span></div><h3 class=\"HNChVRGc\"><a class=\"_1-FLFW4R\" href=\"https://www.forbes.com/sites/saradorn/2025/09/03/trump-suggests-sending-national-guard-to-new-orleans-instead-of-chicago-potentially-avoiding-legal-hurdle/\" rel=\"\" target=\"_self\">Trump Suggests Sending National Guard To New Orleans Instead Of Chicago—Potentially Avoiding Legal Hurdle</a></h3><p class=\"_5v7prWgS\"><span class=\"Ccg9Ib-7\" style=\"-webkit-line-clamp:3\"></span></p><div class=\"Na3NTglQ _51GWpoAk _0AGvFFWM\"><p class=\"ujvJmzbB\">By<a aria-label=\"Sara Dorn\" class=\"_4tin10wS YbfXuVMn\" href=\"https://www.forbes.com/sites/saradorn/\" target=\"_self\" title=\"https://www.forbes.com/sites/saradorn/\">Sara Dorn</a><span class=\"S7tzPEZ-\">,</span></p><p class=\"AtUb4gy8\">Forbes Staff</p></div><div class=\"klKBDGvF\"><button aria-label=\"save article\" class=\"sElHJWe4 NQX0jJYe\" data-theme=\"light\" disabled=\"\" type=\"button\"><svg class=\"fs-icon fs-icon--saved-article\" viewbox=\"0 0 20 20\" x=\"0\" xml:space=\"preserve\" xmlns=\"http://www.w3.org/2000/svg\" y=\"0\"><path d=\"M13.9 3c.7 0 1.3.6 1.3 1.3V17L10 13.9 4.8 17V4.3c0-.7.5-1.3 1.3-1.3h7.8z\"></path></svg></button></div></div>\n",
      "<div class=\"WjVFB823\"><div class=\"IE8ecQMQ\"><span class=\"ycHdAQ4U jMF46RP6\">6 hours ago</span></div><h3 class=\"HNChVRGc\"><a class=\"_1-FLFW4R\" href=\"https://www.forbes.com/sites/antoniopequenoiv/2025/09/03/florida-will-end-all-state-vaccine-requirements-state-surgeon-general-says/\" rel=\"\" target=\"_self\">Florida Will End All State Vaccine Requirements, State Surgeon General Says</a></h3><p class=\"_5v7prWgS\"><span class=\"Ccg9Ib-7\" style=\"-webkit-line-clamp:3\"></span></p><div class=\"Na3NTglQ _51GWpoAk _0AGvFFWM\"><p class=\"ujvJmzbB\">By<a aria-label=\"Antonio Pequeño IV\" class=\"_4tin10wS YbfXuVMn\" href=\"https://www.forbes.com/sites/antoniopequenoiv/\" target=\"_self\" title=\"https://www.forbes.com/sites/antoniopequenoiv/\">Antonio Pequeño IV</a><span class=\"S7tzPEZ-\">,</span></p><p class=\"AtUb4gy8\">Forbes Staff</p></div><div class=\"klKBDGvF\"><button aria-label=\"save article\" class=\"sElHJWe4 NQX0jJYe\" data-theme=\"light\" disabled=\"\" type=\"button\"><svg class=\"fs-icon fs-icon--saved-article\" viewbox=\"0 0 20 20\" x=\"0\" xml:space=\"preserve\" xmlns=\"http://www.w3.org/2000/svg\" y=\"0\"><path d=\"M13.9 3c.7 0 1.3.6 1.3 1.3V17L10 13.9 4.8 17V4.3c0-.7.5-1.3 1.3-1.3h7.8z\"></path></svg></button></div></div>\n",
      "<div class=\"WjVFB823\"><div class=\"IE8ecQMQ\"><span class=\"ycHdAQ4U jMF46RP6\">7 hours ago</span></div><h3 class=\"HNChVRGc\"><a class=\"_1-FLFW4R\" href=\"https://www.forbes.com/sites/conormurray/2025/09/03/upcoming-michael-jackson-biopic-filled-with-inaccuracies-daughter-paris-says/\" rel=\"\" target=\"_self\">Upcoming Michael Jackson Biopic ‘Filled With Inaccuracies’ Daughter Paris Says</a></h3><p class=\"_5v7prWgS\"><span class=\"Ccg9Ib-7\" style=\"-webkit-line-clamp:3\"></span></p><div class=\"Na3NTglQ _51GWpoAk _0AGvFFWM\"><p class=\"ujvJmzbB\">By<a aria-label=\"Conor Murray\" class=\"_4tin10wS YbfXuVMn\" href=\"https://www.forbes.com/sites/conormurray/\" target=\"_self\" title=\"https://www.forbes.com/sites/conormurray/\">Conor Murray</a><span class=\"S7tzPEZ-\">,</span></p><p class=\"AtUb4gy8\">Forbes Staff</p></div><div class=\"klKBDGvF\"><button aria-label=\"save article\" class=\"sElHJWe4 NQX0jJYe\" data-theme=\"light\" disabled=\"\" type=\"button\"><svg class=\"fs-icon fs-icon--saved-article\" viewbox=\"0 0 20 20\" x=\"0\" xml:space=\"preserve\" xmlns=\"http://www.w3.org/2000/svg\" y=\"0\"><path d=\"M13.9 3c.7 0 1.3.6 1.3 1.3V17L10 13.9 4.8 17V4.3c0-.7.5-1.3 1.3-1.3h7.8z\"></path></svg></button></div></div>\n",
      "<div class=\"WjVFB823\"><div class=\"IE8ecQMQ\"><span class=\"ycHdAQ4U jMF46RP6\">7 hours ago</span></div><h3 class=\"HNChVRGc\"><a class=\"_1-FLFW4R\" href=\"https://www.forbes.com/sites/tylerroush/2025/09/03/job-openings-fell-in-july-but-hiring-increased-heres-what-industries-added-the-most/\" rel=\"\" target=\"_self\">Job Openings Fell In July—But Hiring Increased. Here’s What Industries Added The Most.</a></h3><p class=\"_5v7prWgS\"><span class=\"Ccg9Ib-7\" style=\"-webkit-line-clamp:3\"></span></p><div class=\"Na3NTglQ _51GWpoAk _0AGvFFWM\"><p class=\"ujvJmzbB\">By<a aria-label=\"Ty Roush\" class=\"_4tin10wS YbfXuVMn\" href=\"https://www.forbes.com/sites/tylerroush/\" target=\"_self\" title=\"https://www.forbes.com/sites/tylerroush/\">Ty Roush</a><span class=\"S7tzPEZ-\">,</span></p><p class=\"AtUb4gy8\">Forbes Staff</p></div><div class=\"klKBDGvF\"><button aria-label=\"save article\" class=\"sElHJWe4 NQX0jJYe\" data-theme=\"light\" disabled=\"\" type=\"button\"><svg class=\"fs-icon fs-icon--saved-article\" viewbox=\"0 0 20 20\" x=\"0\" xml:space=\"preserve\" xmlns=\"http://www.w3.org/2000/svg\" y=\"0\"><path d=\"M13.9 3c.7 0 1.3.6 1.3 1.3V17L10 13.9 4.8 17V4.3c0-.7.5-1.3 1.3-1.3h7.8z\"></path></svg></button></div></div>\n",
      "<div class=\"WjVFB823\"><div class=\"IE8ecQMQ\"><span class=\"ycHdAQ4U jMF46RP6\">8 hours ago</span></div><h3 class=\"HNChVRGc\"><a class=\"_1-FLFW4R\" href=\"https://www.forbes.com/sites/kylemullins/2025/09/03/eric-trump-becomes-a-billionaire/\" rel=\"\" target=\"_self\">Eric Trump Becomes A Billionaire</a></h3><p class=\"_5v7prWgS\"><span class=\"Ccg9Ib-7\" style=\"-webkit-line-clamp:3\"></span></p><div class=\"Na3NTglQ _51GWpoAk _0AGvFFWM\"><p class=\"ujvJmzbB\">By<a aria-label=\"Kyle Khan-Mullins\" class=\"_4tin10wS YbfXuVMn\" href=\"https://www.forbes.com/sites/kylemullins/\" target=\"_self\" title=\"https://www.forbes.com/sites/kylemullins/\">Kyle Khan-Mullins</a><span class=\"S7tzPEZ-\">,</span></p><p class=\"AtUb4gy8\">Forbes Staff</p></div><div class=\"klKBDGvF\"><button aria-label=\"save article\" class=\"sElHJWe4 NQX0jJYe\" data-theme=\"light\" disabled=\"\" type=\"button\"><svg class=\"fs-icon fs-icon--saved-article\" viewbox=\"0 0 20 20\" x=\"0\" xml:space=\"preserve\" xmlns=\"http://www.w3.org/2000/svg\" y=\"0\"><path d=\"M13.9 3c.7 0 1.3.6 1.3 1.3V17L10 13.9 4.8 17V4.3c0-.7.5-1.3 1.3-1.3h7.8z\"></path></svg></button></div></div>\n",
      "<div class=\"WjVFB823\"><div class=\"IE8ecQMQ\"><span class=\"ycHdAQ4U jMF46RP6\">8 hours ago</span></div><h3 class=\"HNChVRGc\"><a class=\"_1-FLFW4R\" href=\"https://www.forbes.com/sites/alisondurkee/2025/09/03/trump-will-appeal-tariff-decision-to-supreme-court-he-says-heres-what-to-know/\" rel=\"\" target=\"_self\">Trump Will Appeal Tariff Decision To Supreme Court, He Says—Here’s What To Know</a></h3><p class=\"_5v7prWgS\"><span class=\"Ccg9Ib-7\" style=\"-webkit-line-clamp:3\"></span></p><div class=\"Na3NTglQ _51GWpoAk _0AGvFFWM\"><p class=\"ujvJmzbB\">By<a aria-label=\"Alison Durkee\" class=\"_4tin10wS YbfXuVMn\" href=\"https://www.forbes.com/sites/alisondurkee/\" target=\"_self\" title=\"https://www.forbes.com/sites/alisondurkee/\">Alison Durkee</a><span class=\"S7tzPEZ-\">,</span></p><p class=\"AtUb4gy8\">Forbes Staff</p></div><div class=\"klKBDGvF\"><button aria-label=\"save article\" class=\"sElHJWe4 NQX0jJYe\" data-theme=\"light\" disabled=\"\" type=\"button\"><svg class=\"fs-icon fs-icon--saved-article\" viewbox=\"0 0 20 20\" x=\"0\" xml:space=\"preserve\" xmlns=\"http://www.w3.org/2000/svg\" y=\"0\"><path d=\"M13.9 3c.7 0 1.3.6 1.3 1.3V17L10 13.9 4.8 17V4.3c0-.7.5-1.3 1.3-1.3h7.8z\"></path></svg></button></div></div>\n",
      "<div class=\"WjVFB823\"><div class=\"IE8ecQMQ\"><span class=\"ycHdAQ4U jMF46RP6\">9 hours ago</span></div><h3 class=\"HNChVRGc\"><a class=\"_1-FLFW4R\" href=\"https://www.forbes.com/sites/conormurray/2025/09/03/luigi-mangiones-likeness-appeared-as-model-on-shein-website/\" rel=\"\" target=\"_self\">Luigi Mangione’s Likeness Appeared As Model On Shein Website</a></h3><p class=\"_5v7prWgS\"><span class=\"Ccg9Ib-7\" style=\"-webkit-line-clamp:3\"></span></p><div class=\"Na3NTglQ _51GWpoAk _0AGvFFWM\"><p class=\"ujvJmzbB\">By<a aria-label=\"Conor Murray\" class=\"_4tin10wS YbfXuVMn\" href=\"https://www.forbes.com/sites/conormurray/\" target=\"_self\" title=\"https://www.forbes.com/sites/conormurray/\">Conor Murray</a><span class=\"S7tzPEZ-\">,</span></p><p class=\"AtUb4gy8\">Forbes Staff</p></div><div class=\"klKBDGvF\"><button aria-label=\"save article\" class=\"sElHJWe4 NQX0jJYe\" data-theme=\"light\" disabled=\"\" type=\"button\"><svg class=\"fs-icon fs-icon--saved-article\" viewbox=\"0 0 20 20\" x=\"0\" xml:space=\"preserve\" xmlns=\"http://www.w3.org/2000/svg\" y=\"0\"><path d=\"M13.9 3c.7 0 1.3.6 1.3 1.3V17L10 13.9 4.8 17V4.3c0-.7.5-1.3 1.3-1.3h7.8z\"></path></svg></button></div></div>\n",
      "<div class=\"WjVFB823\"><div class=\"IE8ecQMQ\"><span class=\"ycHdAQ4U jMF46RP6\">10 hours ago</span></div><h3 class=\"HNChVRGc\"><a class=\"_1-FLFW4R\" href=\"https://www.forbes.com/sites/maryroeloffs/2025/09/03/nfl-commissioner-taylor-swift-super-bowl-a-maybe-heres-why-swifties-are-convinced-its-happening/\" rel=\"\" target=\"_self\">NFL Commissioner: Taylor Swift Super Bowl ‘A Maybe’—Here’s Why Swifties Are Convinced It’s Happening</a></h3><p class=\"_5v7prWgS\"><span class=\"Ccg9Ib-7\" style=\"-webkit-line-clamp:3\"></span></p><div class=\"Na3NTglQ _51GWpoAk _0AGvFFWM\"><p class=\"ujvJmzbB\">By<a aria-label=\"Mary Whitfill Roeloffs\" class=\"_4tin10wS YbfXuVMn\" href=\"https://www.forbes.com/sites/maryroeloffs/\" target=\"_self\" title=\"https://www.forbes.com/sites/maryroeloffs/\">Mary Whitfill Roeloffs</a><span class=\"S7tzPEZ-\">,</span></p><p class=\"AtUb4gy8\">Forbes Staff</p></div><div class=\"klKBDGvF\"><button aria-label=\"save article\" class=\"sElHJWe4 NQX0jJYe\" data-theme=\"light\" disabled=\"\" type=\"button\"><svg class=\"fs-icon fs-icon--saved-article\" viewbox=\"0 0 20 20\" x=\"0\" xml:space=\"preserve\" xmlns=\"http://www.w3.org/2000/svg\" y=\"0\"><path d=\"M13.9 3c.7 0 1.3.6 1.3 1.3V17L10 13.9 4.8 17V4.3c0-.7.5-1.3 1.3-1.3h7.8z\"></path></svg></button></div></div>\n",
      "<div class=\"WjVFB823\"><div class=\"IE8ecQMQ\"><span class=\"ycHdAQ4U jMF46RP6\">11 hours ago</span></div><h3 class=\"HNChVRGc\"><a class=\"_1-FLFW4R\" href=\"https://www.forbes.com/sites/siladityaray/2025/09/03/google-shares-surge-in-premarket-after-judge-doesnt-order-it-broken-up/\" rel=\"\" target=\"_self\">Google Shares Hit Record High After Judge Doesn’t Order It Broken Up</a></h3><p class=\"_5v7prWgS\"><span class=\"Ccg9Ib-7\" style=\"-webkit-line-clamp:3\"></span></p><div class=\"Na3NTglQ _51GWpoAk _0AGvFFWM\"><p class=\"ujvJmzbB\">By<a aria-label=\"Siladitya Ray\" class=\"_4tin10wS YbfXuVMn\" href=\"https://www.forbes.com/sites/siladityaray/\" target=\"_self\" title=\"https://www.forbes.com/sites/siladityaray/\">Siladitya Ray</a><span class=\"S7tzPEZ-\">,</span></p><p class=\"AtUb4gy8\">Forbes Staff</p></div><div class=\"klKBDGvF\"><button aria-label=\"save article\" class=\"sElHJWe4 NQX0jJYe\" data-theme=\"light\" disabled=\"\" type=\"button\"><svg class=\"fs-icon fs-icon--saved-article\" viewbox=\"0 0 20 20\" x=\"0\" xml:space=\"preserve\" xmlns=\"http://www.w3.org/2000/svg\" y=\"0\"><path d=\"M13.9 3c.7 0 1.3.6 1.3 1.3V17L10 13.9 4.8 17V4.3c0-.7.5-1.3 1.3-1.3h7.8z\"></path></svg></button></div></div>\n",
      "<div class=\"WjVFB823\"><div class=\"IE8ecQMQ\"><span class=\"ycHdAQ4U jMF46RP6\">15 hours ago</span></div><h3 class=\"HNChVRGc\"><a class=\"_1-FLFW4R\" href=\"https://www.forbes.com/sites/siladityaray/2025/09/03/trump-administration-cannot-swiftly-deport-venezuelan-migrants-using-alien-enemies-act-appeals-court-rules/\" rel=\"\" target=\"_self\">Trump Administration Cannot Deport Venezuelan Migrants Using Alien Enemies Act, Appeals Court Rules</a></h3><p class=\"_5v7prWgS\"><span class=\"Ccg9Ib-7\" style=\"-webkit-line-clamp:3\"></span></p><div class=\"Na3NTglQ _51GWpoAk _0AGvFFWM\"><p class=\"ujvJmzbB\">By<a aria-label=\"Siladitya Ray\" class=\"_4tin10wS YbfXuVMn\" href=\"https://www.forbes.com/sites/siladityaray/\" target=\"_self\" title=\"https://www.forbes.com/sites/siladityaray/\">Siladitya Ray</a><span class=\"S7tzPEZ-\">,</span></p><p class=\"AtUb4gy8\">Forbes Staff</p></div><div class=\"klKBDGvF\"><button aria-label=\"save article\" class=\"sElHJWe4 NQX0jJYe\" data-theme=\"light\" disabled=\"\" type=\"button\"><svg class=\"fs-icon fs-icon--saved-article\" viewbox=\"0 0 20 20\" x=\"0\" xml:space=\"preserve\" xmlns=\"http://www.w3.org/2000/svg\" y=\"0\"><path d=\"M13.9 3c.7 0 1.3.6 1.3 1.3V17L10 13.9 4.8 17V4.3c0-.7.5-1.3 1.3-1.3h7.8z\"></path></svg></button></div></div>\n",
      "<div class=\"WjVFB823\"><div class=\"IE8ecQMQ\"><span class=\"ycHdAQ4U jMF46RP6\">18 hours ago</span></div><h3 class=\"HNChVRGc\"><a class=\"_1-FLFW4R\" href=\"https://www.forbes.com/sites/siladityaray/2025/09/03/xi-poses-with-putin-and-kim-jong-un-trump-says-they-are-gathering-to-conspire-against-america/\" rel=\"\" target=\"_self\">Xi Poses With Putin And Kim Jong Un—Trump Says They Are Gathering To ‘Conspire Against’ America</a></h3><p class=\"_5v7prWgS\"><span class=\"Ccg9Ib-7\" style=\"-webkit-line-clamp:3\"></span></p><div class=\"Na3NTglQ _51GWpoAk _0AGvFFWM\"><p class=\"ujvJmzbB\">By<a aria-label=\"Siladitya Ray\" class=\"_4tin10wS YbfXuVMn\" href=\"https://www.forbes.com/sites/siladityaray/\" target=\"_self\" title=\"https://www.forbes.com/sites/siladityaray/\">Siladitya Ray</a><span class=\"S7tzPEZ-\">,</span></p><p class=\"AtUb4gy8\">Forbes Staff</p></div><div class=\"klKBDGvF\"><button aria-label=\"save article\" class=\"sElHJWe4 NQX0jJYe\" data-theme=\"light\" disabled=\"\" type=\"button\"><svg class=\"fs-icon fs-icon--saved-article\" viewbox=\"0 0 20 20\" x=\"0\" xml:space=\"preserve\" xmlns=\"http://www.w3.org/2000/svg\" y=\"0\"><path d=\"M13.9 3c.7 0 1.3.6 1.3 1.3V17L10 13.9 4.8 17V4.3c0-.7.5-1.3 1.3-1.3h7.8z\"></path></svg></button></div></div>\n",
      "<div class=\"WjVFB823\"><div class=\"IE8ecQMQ\"><span class=\"ycHdAQ4U jMF46RP6\">Sep 2, 2025</span></div><h3 class=\"HNChVRGc\"><a class=\"_1-FLFW4R\" href=\"https://www.forbes.com/sites/antoniopequenoiv/2025/09/02/house-committee-releases-first-set-of-subpoenaed-epstein-files/\" rel=\"\" target=\"_self\">House Committee Releases First Set Of Subpoenaed Epstein Files</a></h3><p class=\"_5v7prWgS\"><span class=\"Ccg9Ib-7\" style=\"-webkit-line-clamp:3\"></span></p><div class=\"Na3NTglQ _51GWpoAk _0AGvFFWM\"><p class=\"ujvJmzbB\">By<a aria-label=\"Antonio Pequeño IV\" class=\"_4tin10wS YbfXuVMn\" href=\"https://www.forbes.com/sites/antoniopequenoiv/\" target=\"_self\" title=\"https://www.forbes.com/sites/antoniopequenoiv/\">Antonio Pequeño IV</a><span class=\"S7tzPEZ-\">,</span></p><p class=\"AtUb4gy8\">Forbes Staff</p></div><div class=\"klKBDGvF\"><button aria-label=\"save article\" class=\"sElHJWe4 NQX0jJYe\" data-theme=\"light\" disabled=\"\" type=\"button\"><svg class=\"fs-icon fs-icon--saved-article\" viewbox=\"0 0 20 20\" x=\"0\" xml:space=\"preserve\" xmlns=\"http://www.w3.org/2000/svg\" y=\"0\"><path d=\"M13.9 3c.7 0 1.3.6 1.3 1.3V17L10 13.9 4.8 17V4.3c0-.7.5-1.3 1.3-1.3h7.8z\"></path></svg></button></div></div>\n",
      "<div class=\"WjVFB823\"><div class=\"IE8ecQMQ\"><span class=\"ycHdAQ4U jMF46RP6\">Sep 2, 2025</span></div><h3 class=\"HNChVRGc\"><a class=\"_1-FLFW4R\" href=\"https://www.forbes.com/sites/maryroeloffs/2025/09/02/with-love-meghan-misses-netflix-top-10/\" rel=\"\" target=\"_self\">‘With Love, Meghan’ Misses Netflix Top 10</a></h3><p class=\"_5v7prWgS\"><span class=\"Ccg9Ib-7\" style=\"-webkit-line-clamp:3\"></span></p><div class=\"Na3NTglQ _51GWpoAk _0AGvFFWM\"><p class=\"ujvJmzbB\">By<a aria-label=\"Mary Whitfill Roeloffs\" class=\"_4tin10wS YbfXuVMn\" href=\"https://www.forbes.com/sites/maryroeloffs/\" target=\"_self\" title=\"https://www.forbes.com/sites/maryroeloffs/\">Mary Whitfill Roeloffs</a><span class=\"S7tzPEZ-\">,</span></p><p class=\"AtUb4gy8\">Forbes Staff</p></div><div class=\"klKBDGvF\"><button aria-label=\"save article\" class=\"sElHJWe4 NQX0jJYe\" data-theme=\"light\" disabled=\"\" type=\"button\"><svg class=\"fs-icon fs-icon--saved-article\" viewbox=\"0 0 20 20\" x=\"0\" xml:space=\"preserve\" xmlns=\"http://www.w3.org/2000/svg\" y=\"0\"><path d=\"M13.9 3c.7 0 1.3.6 1.3 1.3V17L10 13.9 4.8 17V4.3c0-.7.5-1.3 1.3-1.3h7.8z\"></path></svg></button></div></div>\n",
      "<div class=\"WjVFB823\"><div class=\"IE8ecQMQ\"><span class=\"ycHdAQ4U jMF46RP6\">Sep 2, 2025</span></div><h3 class=\"HNChVRGc\"><a class=\"_1-FLFW4R\" href=\"https://www.forbes.com/sites/antoniopequenoiv/2025/09/02/judge-allows-google-to-keep-chrome-but-orders-it-to-share-search-data-with-competitors/\" rel=\"\" target=\"_self\">Judge Allows Google To Keep Chrome But Orders It To Share Search Data With Competitors</a></h3><p class=\"_5v7prWgS\"><span class=\"Ccg9Ib-7\" style=\"-webkit-line-clamp:3\"></span></p><div class=\"Na3NTglQ _51GWpoAk _0AGvFFWM\"><p class=\"ujvJmzbB\">By<a aria-label=\"Antonio Pequeño IV\" class=\"_4tin10wS YbfXuVMn\" href=\"https://www.forbes.com/sites/antoniopequenoiv/\" target=\"_self\" title=\"https://www.forbes.com/sites/antoniopequenoiv/\">Antonio Pequeño IV</a><span class=\"S7tzPEZ-\">,</span></p><p class=\"AtUb4gy8\">Forbes Staff</p></div><div class=\"klKBDGvF\"><button aria-label=\"save article\" class=\"sElHJWe4 NQX0jJYe\" data-theme=\"light\" disabled=\"\" type=\"button\"><svg class=\"fs-icon fs-icon--saved-article\" viewbox=\"0 0 20 20\" x=\"0\" xml:space=\"preserve\" xmlns=\"http://www.w3.org/2000/svg\" y=\"0\"><path d=\"M13.9 3c.7 0 1.3.6 1.3 1.3V17L10 13.9 4.8 17V4.3c0-.7.5-1.3 1.3-1.3h7.8z\"></path></svg></button></div></div>\n",
      "<div class=\"WjVFB823\"><div class=\"IE8ecQMQ\"><span class=\"ycHdAQ4U jMF46RP6\">Sep 2, 2025</span></div><h3 class=\"HNChVRGc\"><a class=\"_1-FLFW4R\" href=\"https://www.forbes.com/sites/zacheverson/2025/09/02/trump-crypto-token-wlfi-world-liberty-financial/\" rel=\"\" target=\"_self\">Trump Family’s WLFI Token Debuts 5 To 15 Times Above Early Sale Prices Despite Drop</a></h3><p class=\"_5v7prWgS\"><span class=\"Ccg9Ib-7\" style=\"-webkit-line-clamp:3\"></span></p><div class=\"Na3NTglQ _51GWpoAk _0AGvFFWM\"><p class=\"ujvJmzbB\">By<a aria-label=\"Zach Everson\" class=\"_4tin10wS YbfXuVMn\" href=\"https://www.forbes.com/sites/zacheverson/\" target=\"_self\" title=\"https://www.forbes.com/sites/zacheverson/\">Zach Everson</a><span class=\"S7tzPEZ-\">,</span></p><p class=\"AtUb4gy8\">Forbes Staff</p></div><div class=\"klKBDGvF\"><button aria-label=\"save article\" class=\"sElHJWe4 NQX0jJYe\" data-theme=\"light\" disabled=\"\" type=\"button\"><svg class=\"fs-icon fs-icon--saved-article\" viewbox=\"0 0 20 20\" x=\"0\" xml:space=\"preserve\" xmlns=\"http://www.w3.org/2000/svg\" y=\"0\"><path d=\"M13.9 3c.7 0 1.3.6 1.3 1.3V17L10 13.9 4.8 17V4.3c0-.7.5-1.3 1.3-1.3h7.8z\"></path></svg></button></div></div>\n",
      "<div class=\"WjVFB823\"><div class=\"IE8ecQMQ\"><span class=\"ycHdAQ4U jMF46RP6\">Sep 2, 2025</span></div><h3 class=\"HNChVRGc\"><a class=\"_1-FLFW4R\" href=\"https://www.forbes.com/sites/antoniopequenoiv/2025/09/02/trump-claims-video-of-objects-thrown-out-white-house-window-was-fake-probably-ai/\" rel=\"\" target=\"_self\">Trump Claims Video Of Objects Thrown Out White House Window Was Fake, ‘Probably’ AI</a></h3><p class=\"_5v7prWgS\"><span class=\"Ccg9Ib-7\" style=\"-webkit-line-clamp:3\"></span></p><div class=\"Na3NTglQ _51GWpoAk _0AGvFFWM\"><p class=\"ujvJmzbB\">By<a aria-label=\"Antonio Pequeño IV\" class=\"_4tin10wS YbfXuVMn\" href=\"https://www.forbes.com/sites/antoniopequenoiv/\" target=\"_self\" title=\"https://www.forbes.com/sites/antoniopequenoiv/\">Antonio Pequeño IV</a><span class=\"S7tzPEZ-\">,</span></p><p class=\"AtUb4gy8\">Forbes Staff</p></div><div class=\"klKBDGvF\"><button aria-label=\"save article\" class=\"sElHJWe4 NQX0jJYe\" data-theme=\"light\" disabled=\"\" type=\"button\"><svg class=\"fs-icon fs-icon--saved-article\" viewbox=\"0 0 20 20\" x=\"0\" xml:space=\"preserve\" xmlns=\"http://www.w3.org/2000/svg\" y=\"0\"><path d=\"M13.9 3c.7 0 1.3.6 1.3 1.3V17L10 13.9 4.8 17V4.3c0-.7.5-1.3 1.3-1.3h7.8z\"></path></svg></button></div></div>\n",
      "<div class=\"WjVFB823\"><div class=\"IE8ecQMQ\"><span class=\"ycHdAQ4U jMF46RP6\">Sep 2, 2025</span></div><h3 class=\"HNChVRGc\"><a class=\"_1-FLFW4R\" href=\"https://www.forbes.com/sites/alisondurkee/2025/09/02/whos-eligible-for-no-tax-on-tips-trumps-new-policy-set-to-include-influencers-uber-drivers-and-more/\" rel=\"\" target=\"_self\">Who’s Eligible For No Tax On Tips? Trump’s New Policy Set To Include Influencers, Uber Drivers And More</a></h3><p class=\"_5v7prWgS\"><span class=\"Ccg9Ib-7\" style=\"-webkit-line-clamp:3\"></span></p><div class=\"Na3NTglQ _51GWpoAk _0AGvFFWM\"><p class=\"ujvJmzbB\">By<a aria-label=\"Alison Durkee\" class=\"_4tin10wS YbfXuVMn\" href=\"https://www.forbes.com/sites/alisondurkee/\" target=\"_self\" title=\"https://www.forbes.com/sites/alisondurkee/\">Alison Durkee</a><span class=\"S7tzPEZ-\">,</span></p><p class=\"AtUb4gy8\">Forbes Staff</p></div><div class=\"klKBDGvF\"><button aria-label=\"save article\" class=\"sElHJWe4 NQX0jJYe\" data-theme=\"light\" disabled=\"\" type=\"button\"><svg class=\"fs-icon fs-icon--saved-article\" viewbox=\"0 0 20 20\" x=\"0\" xml:space=\"preserve\" xmlns=\"http://www.w3.org/2000/svg\" y=\"0\"><path d=\"M13.9 3c.7 0 1.3.6 1.3 1.3V17L10 13.9 4.8 17V4.3c0-.7.5-1.3 1.3-1.3h7.8z\"></path></svg></button></div></div>\n",
      "<div class=\"WjVFB823\"><div class=\"IE8ecQMQ\"><span class=\"ycHdAQ4U jMF46RP6\">Sep 2, 2025</span></div><h3 class=\"HNChVRGc\"><a class=\"_1-FLFW4R\" href=\"https://www.forbes.com/sites/saradorn/2025/09/02/trump-says-hell-send-national-guard-to-chicago-and-baltimore/\" rel=\"\" target=\"_self\">Trump Says He’ll Send National Guard To Chicago And Baltimore</a></h3><p class=\"_5v7prWgS\"><span class=\"Ccg9Ib-7\" style=\"-webkit-line-clamp:3\"></span></p><div class=\"Na3NTglQ _51GWpoAk _0AGvFFWM\"><p class=\"ujvJmzbB\">By<a aria-label=\"Sara Dorn\" class=\"_4tin10wS YbfXuVMn\" href=\"https://www.forbes.com/sites/saradorn/\" target=\"_self\" title=\"https://www.forbes.com/sites/saradorn/\">Sara Dorn</a><span class=\"S7tzPEZ-\">,</span></p><p class=\"AtUb4gy8\">Forbes Staff</p></div><div class=\"klKBDGvF\"><button aria-label=\"save article\" class=\"sElHJWe4 NQX0jJYe\" data-theme=\"light\" disabled=\"\" type=\"button\"><svg class=\"fs-icon fs-icon--saved-article\" viewbox=\"0 0 20 20\" x=\"0\" xml:space=\"preserve\" xmlns=\"http://www.w3.org/2000/svg\" y=\"0\"><path d=\"M13.9 3c.7 0 1.3.6 1.3 1.3V17L10 13.9 4.8 17V4.3c0-.7.5-1.3 1.3-1.3h7.8z\"></path></svg></button></div></div>\n",
      "<div class=\"WjVFB823\"><div class=\"IE8ecQMQ\"><span class=\"ycHdAQ4U jMF46RP6\">5 hours ago</span></div><h3 class=\"HNChVRGc\"><a class=\"_1-FLFW4R\" href=\"https://www.forbes.com/sites/alisondurkee/2025/09/03/trump-wants-supreme-court-to-decide-whether-he-sexually-abused-e-jean-carroll/\" rel=\"\" target=\"_self\">Trump Wants Supreme Court To Decide Whether He Sexually Abused E. Jean Carroll</a></h3><p class=\"_5v7prWgS\"><span class=\"Ccg9Ib-7\" style=\"-webkit-line-clamp:3\">Trump is on the hook for $5 million in this case—but a favorable ruling from the Supreme Court would also put the $83.3 million judgment against him at risk.</span></p><div class=\"Na3NTglQ _51GWpoAk _0AGvFFWM\"><p class=\"ujvJmzbB\">By<a aria-label=\"Alison Durkee\" class=\"_4tin10wS YbfXuVMn\" href=\"https://www.forbes.com/sites/alisondurkee/\" target=\"_self\" title=\"https://www.forbes.com/sites/alisondurkee/\">Alison Durkee</a><span class=\"S7tzPEZ-\">,</span></p><p class=\"AtUb4gy8\">Forbes Staff</p></div><div class=\"klKBDGvF\"><button aria-label=\"save article\" class=\"sElHJWe4 NQX0jJYe\" data-theme=\"light\" disabled=\"\" type=\"button\"><svg class=\"fs-icon fs-icon--saved-article\" viewbox=\"0 0 20 20\" x=\"0\" xml:space=\"preserve\" xmlns=\"http://www.w3.org/2000/svg\" y=\"0\"><path d=\"M13.9 3c.7 0 1.3.6 1.3 1.3V17L10 13.9 4.8 17V4.3c0-.7.5-1.3 1.3-1.3h7.8z\"></path></svg></button></div></div>\n",
      "<div class=\"WjVFB823\"><div class=\"IE8ecQMQ\"><span class=\"ycHdAQ4U jMF46RP6\">5 hours ago</span></div><h3 class=\"HNChVRGc\"><a class=\"_1-FLFW4R\" href=\"https://www.forbes.com/sites/saradorn/2025/09/03/trump-approval-rating-unchanged-from-last-week-at-41-in-latest-poll/\" rel=\"\" target=\"_self\">Trump Approval Rating: Unchanged From Last Week At 41% In Latest Poll</a></h3><p class=\"_5v7prWgS\"><span class=\"Ccg9Ib-7\" style=\"-webkit-line-clamp:3\">The latest survey, released Sept. 3, shows Trump has a 41% approval rating.</span></p><div class=\"Na3NTglQ _51GWpoAk _0AGvFFWM\"><p class=\"ujvJmzbB\">By<a aria-label=\"Sara Dorn\" class=\"_4tin10wS YbfXuVMn\" href=\"https://www.forbes.com/sites/saradorn/\" target=\"_self\" title=\"https://www.forbes.com/sites/saradorn/\">Sara Dorn</a><span class=\"S7tzPEZ-\">,</span></p><p class=\"AtUb4gy8\">Forbes Staff</p></div><div class=\"klKBDGvF\"><button aria-label=\"save article\" class=\"sElHJWe4 NQX0jJYe\" data-theme=\"light\" disabled=\"\" type=\"button\"><svg class=\"fs-icon fs-icon--saved-article\" viewbox=\"0 0 20 20\" x=\"0\" xml:space=\"preserve\" xmlns=\"http://www.w3.org/2000/svg\" y=\"0\"><path d=\"M13.9 3c.7 0 1.3.6 1.3 1.3V17L10 13.9 4.8 17V4.3c0-.7.5-1.3 1.3-1.3h7.8z\"></path></svg></button></div></div>\n",
      "<div class=\"WjVFB823\"><div class=\"IE8ecQMQ\"><span class=\"ycHdAQ4U jMF46RP6\">6 hours ago</span></div><h3 class=\"HNChVRGc\"><a class=\"_1-FLFW4R\" href=\"https://www.forbes.com/sites/saradorn/2025/09/03/trump-suggests-sending-national-guard-to-new-orleans-instead-of-chicago-potentially-avoiding-legal-hurdle/\" rel=\"\" target=\"_self\">Trump Suggests Sending National Guard To New Orleans Instead Of Chicago—Potentially Avoiding Legal Hurdle</a></h3><p class=\"_5v7prWgS\"><span class=\"Ccg9Ib-7\" style=\"-webkit-line-clamp:3\">Trump made the comments after a court ruled Tuesday he illegally deployed troops to Los Angeles in June without the governor’s permission.</span></p><div class=\"Na3NTglQ _51GWpoAk _0AGvFFWM\"><p class=\"ujvJmzbB\">By<a aria-label=\"Sara Dorn\" class=\"_4tin10wS YbfXuVMn\" href=\"https://www.forbes.com/sites/saradorn/\" target=\"_self\" title=\"https://www.forbes.com/sites/saradorn/\">Sara Dorn</a><span class=\"S7tzPEZ-\">,</span></p><p class=\"AtUb4gy8\">Forbes Staff</p></div><div class=\"klKBDGvF\"><button aria-label=\"save article\" class=\"sElHJWe4 NQX0jJYe\" data-theme=\"light\" disabled=\"\" type=\"button\"><svg class=\"fs-icon fs-icon--saved-article\" viewbox=\"0 0 20 20\" x=\"0\" xml:space=\"preserve\" xmlns=\"http://www.w3.org/2000/svg\" y=\"0\"><path d=\"M13.9 3c.7 0 1.3.6 1.3 1.3V17L10 13.9 4.8 17V4.3c0-.7.5-1.3 1.3-1.3h7.8z\"></path></svg></button></div></div>\n",
      "<div class=\"WjVFB823\"><div class=\"IE8ecQMQ\"><span class=\"ycHdAQ4U jMF46RP6\">8 hours ago</span></div><h3 class=\"HNChVRGc\"><a class=\"_1-FLFW4R\" href=\"https://www.forbes.com/sites/innovationrx/2025/09/03/innovationrx-inside-the-crisis-at-the-cdc/\" rel=\"\" target=\"_self\">InnovationRx: Inside The Crisis At The CDC</a></h3><p class=\"_5v7prWgS\"><span class=\"Ccg9Ib-7\" style=\"-webkit-line-clamp:3\">In this week’s edition of InnovationRx, we look at the Walgreens' new CEO, Alnylam's blood pressure treatment, and more.</span></p><div class=\"Na3NTglQ _51GWpoAk _0AGvFFWM\"><p class=\"ujvJmzbB\">By<a aria-label=\"Amy Feldman\" class=\"_4tin10wS YbfXuVMn\" href=\"https://www.forbes.com/sites/amyfeldman/\" target=\"_self\" title=\"https://www.forbes.com/sites/amyfeldman/\">Amy Feldman</a><span class=\"S7tzPEZ-\">,</span></p><p class=\"AtUb4gy8\">Forbes Staff</p></div><div class=\"klKBDGvF\"><button aria-label=\"save article\" class=\"sElHJWe4 NQX0jJYe\" data-theme=\"light\" disabled=\"\" type=\"button\"><svg class=\"fs-icon fs-icon--saved-article\" viewbox=\"0 0 20 20\" x=\"0\" xml:space=\"preserve\" xmlns=\"http://www.w3.org/2000/svg\" y=\"0\"><path d=\"M13.9 3c.7 0 1.3.6 1.3 1.3V17L10 13.9 4.8 17V4.3c0-.7.5-1.3 1.3-1.3h7.8z\"></path></svg></button></div></div>\n",
      "<div class=\"WjVFB823\"><div class=\"IE8ecQMQ\"><span class=\"ycHdAQ4U jMF46RP6\">8 hours ago</span></div><h3 class=\"HNChVRGc\"><a class=\"_1-FLFW4R\" href=\"https://www.forbes.com/sites/kylemullins/2025/09/03/eric-trump-becomes-a-billionaire/\" rel=\"\" target=\"_self\">Eric Trump Becomes A Billionaire</a></h3><p class=\"_5v7prWgS\"><span class=\"Ccg9Ib-7\" style=\"-webkit-line-clamp:3\">It’s not just the president getting rich on crypto. His heirs are also making millions for themselves.</span></p><div class=\"Na3NTglQ _51GWpoAk _0AGvFFWM\"><p class=\"ujvJmzbB\">By<a aria-label=\"Kyle Khan-Mullins\" class=\"_4tin10wS YbfXuVMn\" href=\"https://www.forbes.com/sites/kylemullins/\" target=\"_self\" title=\"https://www.forbes.com/sites/kylemullins/\">Kyle Khan-Mullins</a><span class=\"S7tzPEZ-\">,</span></p><p class=\"AtUb4gy8\">Forbes Staff</p></div><div class=\"klKBDGvF\"><button aria-label=\"save article\" class=\"sElHJWe4 NQX0jJYe\" data-theme=\"light\" disabled=\"\" type=\"button\"><svg class=\"fs-icon fs-icon--saved-article\" viewbox=\"0 0 20 20\" x=\"0\" xml:space=\"preserve\" xmlns=\"http://www.w3.org/2000/svg\" y=\"0\"><path d=\"M13.9 3c.7 0 1.3.6 1.3 1.3V17L10 13.9 4.8 17V4.3c0-.7.5-1.3 1.3-1.3h7.8z\"></path></svg></button></div></div>\n",
      "<div class=\"WjVFB823\"><div class=\"IE8ecQMQ\"><span class=\"ycHdAQ4U jMF46RP6\">9 hours ago</span></div><h3 class=\"HNChVRGc\"><a class=\"_1-FLFW4R\" href=\"https://www.forbes.com/sites/alisondurkee/2025/09/03/trump-will-appeal-tariff-decision-to-supreme-court-he-says-heres-what-to-know/\" rel=\"\" target=\"_self\">Trump Will Appeal Tariff Decision To Supreme Court, He Says—Here’s What To Know</a></h3><p class=\"_5v7prWgS\"><span class=\"Ccg9Ib-7\" style=\"-webkit-line-clamp:3\">The president said he’ll ask the court to decide the tariffs’ legality on Wednesday.</span></p><div class=\"Na3NTglQ _51GWpoAk _0AGvFFWM\"><p class=\"ujvJmzbB\">By<a aria-label=\"Alison Durkee\" class=\"_4tin10wS YbfXuVMn\" href=\"https://www.forbes.com/sites/alisondurkee/\" target=\"_self\" title=\"https://www.forbes.com/sites/alisondurkee/\">Alison Durkee</a><span class=\"S7tzPEZ-\">,</span></p><p class=\"AtUb4gy8\">Forbes Staff</p></div><div class=\"klKBDGvF\"><button aria-label=\"save article\" class=\"sElHJWe4 NQX0jJYe\" data-theme=\"light\" disabled=\"\" type=\"button\"><svg class=\"fs-icon fs-icon--saved-article\" viewbox=\"0 0 20 20\" x=\"0\" xml:space=\"preserve\" xmlns=\"http://www.w3.org/2000/svg\" y=\"0\"><path d=\"M13.9 3c.7 0 1.3.6 1.3 1.3V17L10 13.9 4.8 17V4.3c0-.7.5-1.3 1.3-1.3h7.8z\"></path></svg></button></div></div>\n",
      "<div class=\"WjVFB823\"><div class=\"IE8ecQMQ\"><span class=\"ycHdAQ4U jMF46RP6\">Sep 2, 2025</span></div><h3 class=\"HNChVRGc\"><a class=\"_1-FLFW4R\" href=\"https://www.forbes.com/sites/antoniopequenoiv/2025/09/02/house-committee-releases-first-set-of-subpoenaed-epstein-files/\" rel=\"\" target=\"_self\">House Committee Releases First Set Of Subpoenaed Epstein Files</a></h3><p class=\"_5v7prWgS\"><span class=\"Ccg9Ib-7\" style=\"-webkit-line-clamp:3\">It is not yet clear what share of the files released Tuesday contained previously unknown information.</span></p><div class=\"Na3NTglQ _51GWpoAk _0AGvFFWM\"><p class=\"ujvJmzbB\">By<a aria-label=\"Antonio Pequeño IV\" class=\"_4tin10wS YbfXuVMn\" href=\"https://www.forbes.com/sites/antoniopequenoiv/\" target=\"_self\" title=\"https://www.forbes.com/sites/antoniopequenoiv/\">Antonio Pequeño IV</a><span class=\"S7tzPEZ-\">,</span></p><p class=\"AtUb4gy8\">Forbes Staff</p></div><div class=\"klKBDGvF\"><button aria-label=\"save article\" class=\"sElHJWe4 NQX0jJYe\" data-theme=\"light\" disabled=\"\" type=\"button\"><svg class=\"fs-icon fs-icon--saved-article\" viewbox=\"0 0 20 20\" x=\"0\" xml:space=\"preserve\" xmlns=\"http://www.w3.org/2000/svg\" y=\"0\"><path d=\"M13.9 3c.7 0 1.3.6 1.3 1.3V17L10 13.9 4.8 17V4.3c0-.7.5-1.3 1.3-1.3h7.8z\"></path></svg></button></div></div>\n",
      "<div class=\"WjVFB823\"><div class=\"IE8ecQMQ\"><span class=\"ycHdAQ4U jMF46RP6\">Sep 2, 2025</span></div><h3 class=\"HNChVRGc\"><a class=\"_1-FLFW4R\" href=\"https://www.forbes.com/sites/zacheverson/2025/09/02/trump-crypto-token-wlfi-world-liberty-financial/\" rel=\"\" target=\"_self\">Trump Family’s WLFI Token Debuts 5 To 15 Times Above Early Sale Prices Despite Drop</a></h3><p class=\"_5v7prWgS\"><span class=\"Ccg9Ib-7\" style=\"-webkit-line-clamp:3\">Hours after its debut, World Liberty Financial proposed using trading fees to buy back and burn WLFI tokens, permanently shrinking supply.</span></p><div class=\"Na3NTglQ _51GWpoAk _0AGvFFWM\"><p class=\"ujvJmzbB\">By<a aria-label=\"Zach Everson\" class=\"_4tin10wS YbfXuVMn\" href=\"https://www.forbes.com/sites/zacheverson/\" target=\"_self\" title=\"https://www.forbes.com/sites/zacheverson/\">Zach Everson</a><span class=\"S7tzPEZ-\">,</span></p><p class=\"AtUb4gy8\">Forbes Staff</p></div><div class=\"klKBDGvF\"><button aria-label=\"save article\" class=\"sElHJWe4 NQX0jJYe\" data-theme=\"light\" disabled=\"\" type=\"button\"><svg class=\"fs-icon fs-icon--saved-article\" viewbox=\"0 0 20 20\" x=\"0\" xml:space=\"preserve\" xmlns=\"http://www.w3.org/2000/svg\" y=\"0\"><path d=\"M13.9 3c.7 0 1.3.6 1.3 1.3V17L10 13.9 4.8 17V4.3c0-.7.5-1.3 1.3-1.3h7.8z\"></path></svg></button></div></div>\n",
      "<div class=\"WjVFB823\"><div class=\"IE8ecQMQ\"><span class=\"ycHdAQ4U jMF46RP6\">Sep 2, 2025</span></div><h3 class=\"HNChVRGc\"><a class=\"_1-FLFW4R\" href=\"https://www.forbes.com/sites/antoniopequenoiv/2025/09/02/trump-claims-video-of-objects-thrown-out-white-house-window-was-fake-probably-ai/\" rel=\"\" target=\"_self\">Trump Claims Video Of Objects Thrown Out White House Window Was Fake, ‘Probably’ AI</a></h3><p class=\"_5v7prWgS\"><span class=\"Ccg9Ib-7\" style=\"-webkit-line-clamp:3\">The White House told Time the objects were thrown out of a second floor window by a contractor. </span></p><div class=\"Na3NTglQ _51GWpoAk _0AGvFFWM\"><p class=\"ujvJmzbB\">By<a aria-label=\"Antonio Pequeño IV\" class=\"_4tin10wS YbfXuVMn\" href=\"https://www.forbes.com/sites/antoniopequenoiv/\" target=\"_self\" title=\"https://www.forbes.com/sites/antoniopequenoiv/\">Antonio Pequeño IV</a><span class=\"S7tzPEZ-\">,</span></p><p class=\"AtUb4gy8\">Forbes Staff</p></div><div class=\"klKBDGvF\"><button aria-label=\"save article\" class=\"sElHJWe4 NQX0jJYe\" data-theme=\"light\" disabled=\"\" type=\"button\"><svg class=\"fs-icon fs-icon--saved-article\" viewbox=\"0 0 20 20\" x=\"0\" xml:space=\"preserve\" xmlns=\"http://www.w3.org/2000/svg\" y=\"0\"><path d=\"M13.9 3c.7 0 1.3.6 1.3 1.3V17L10 13.9 4.8 17V4.3c0-.7.5-1.3 1.3-1.3h7.8z\"></path></svg></button></div></div>\n",
      "<div class=\"WjVFB823\"><div class=\"IE8ecQMQ\"><span class=\"ycHdAQ4U jMF46RP6\">Sep 2, 2025</span></div><h3 class=\"HNChVRGc\"><a class=\"_1-FLFW4R\" href=\"https://www.forbes.com/sites/alisondurkee/2025/09/02/whos-eligible-for-no-tax-on-tips-trumps-new-policy-set-to-include-influencers-uber-drivers-and-more/\" rel=\"\" target=\"_self\">Who’s Eligible For No Tax On Tips? Trump’s New Policy Set To Include Influencers, Uber Drivers And More</a></h3><p class=\"_5v7prWgS\"><span class=\"Ccg9Ib-7\" style=\"-webkit-line-clamp:3\">Workers in nearly 70 occupations are set to be included in the new policy, according to reports.</span></p><div class=\"Na3NTglQ _51GWpoAk _0AGvFFWM\"><p class=\"ujvJmzbB\">By<a aria-label=\"Alison Durkee\" class=\"_4tin10wS YbfXuVMn\" href=\"https://www.forbes.com/sites/alisondurkee/\" target=\"_self\" title=\"https://www.forbes.com/sites/alisondurkee/\">Alison Durkee</a><span class=\"S7tzPEZ-\">,</span></p><p class=\"AtUb4gy8\">Forbes Staff</p></div><div class=\"klKBDGvF\"><button aria-label=\"save article\" class=\"sElHJWe4 NQX0jJYe\" data-theme=\"light\" disabled=\"\" type=\"button\"><svg class=\"fs-icon fs-icon--saved-article\" viewbox=\"0 0 20 20\" x=\"0\" xml:space=\"preserve\" xmlns=\"http://www.w3.org/2000/svg\" y=\"0\"><path d=\"M13.9 3c.7 0 1.3.6 1.3 1.3V17L10 13.9 4.8 17V4.3c0-.7.5-1.3 1.3-1.3h7.8z\"></path></svg></button></div></div>\n",
      "<div class=\"WjVFB823\"><div class=\"IE8ecQMQ\"><span class=\"ycHdAQ4U jMF46RP6\">13 hours ago</span></div><h3 class=\"HNChVRGc\"><a class=\"_1-FLFW4R\" href=\"https://www.forbes.com/sites/thomasbrewster/2025/09/03/ai-startup-flock-thinks-it-can-eliminate-all-crime-in-america/\" rel=\"\" target=\"_self\">AI Startup Flock Thinks It Can Eliminate All Crime In America</a></h3><p class=\"_5v7prWgS\"><span class=\"Ccg9Ib-7\" style=\"-webkit-line-clamp:3\">With more than 80,000 AI-powered cameras across the U.S., Flock Safety has become one of cops’ go-to surveillance tools. Now CEO Garrett Langley has both police tech giant Axon and Chinese drone maker DJI in his sights on the way to his goal: Preventing all crime in the U.S.</span></p><div class=\"Na3NTglQ _51GWpoAk _0AGvFFWM\"><p class=\"ujvJmzbB\">By<a aria-label=\"Thomas Brewster\" class=\"_4tin10wS YbfXuVMn\" href=\"https://www.forbes.com/sites/thomasbrewster/\" target=\"_self\" title=\"https://www.forbes.com/sites/thomasbrewster/\">Thomas Brewster</a><span class=\"S7tzPEZ-\">,</span></p><p class=\"AtUb4gy8\">Forbes Staff</p></div><div class=\"klKBDGvF\"><button aria-label=\"save article\" class=\"sElHJWe4 NQX0jJYe\" data-theme=\"light\" disabled=\"\" type=\"button\"><svg class=\"fs-icon fs-icon--saved-article\" viewbox=\"0 0 20 20\" x=\"0\" xml:space=\"preserve\" xmlns=\"http://www.w3.org/2000/svg\" y=\"0\"><path d=\"M13.9 3c.7 0 1.3.6 1.3 1.3V17L10 13.9 4.8 17V4.3c0-.7.5-1.3 1.3-1.3h7.8z\"></path></svg></button></div></div>\n",
      "<div class=\"WjVFB823\"><div class=\"IE8ecQMQ\"><span class=\"ycHdAQ4U jMF46RP6\">13 hours ago</span></div><h3 class=\"HNChVRGc\"><a class=\"_1-FLFW4R\" href=\"https://www.forbes.com/sites/richardnieva/2025/09/03/ais-next-job-recruiting-people-to-train-more-ai/\" rel=\"\" target=\"_self\">AI’s Next Job? Recruiting People To Train More AI</a></h3><p class=\"_5v7prWgS\"><span class=\"Ccg9Ib-7\" style=\"-webkit-line-clamp:3\">Mercor, debuting on the Forbes Cloud 100 list, built an AI recruiter to interview job candidates. Then it discovered a cash cow: finding humans to train AI models.</span></p><div class=\"Na3NTglQ _51GWpoAk _0AGvFFWM\"><p class=\"ujvJmzbB\">By<a aria-label=\"Richard Nieva\" class=\"_4tin10wS YbfXuVMn\" href=\"https://www.forbes.com/sites/richardnieva/\" target=\"_self\" title=\"https://www.forbes.com/sites/richardnieva/\">Richard Nieva</a><span class=\"S7tzPEZ-\">,</span></p><p class=\"AtUb4gy8\">Forbes Staff</p></div><div class=\"klKBDGvF\"><button aria-label=\"save article\" class=\"sElHJWe4 NQX0jJYe\" data-theme=\"light\" disabled=\"\" type=\"button\"><svg class=\"fs-icon fs-icon--saved-article\" viewbox=\"0 0 20 20\" x=\"0\" xml:space=\"preserve\" xmlns=\"http://www.w3.org/2000/svg\" y=\"0\"><path d=\"M13.9 3c.7 0 1.3.6 1.3 1.3V17L10 13.9 4.8 17V4.3c0-.7.5-1.3 1.3-1.3h7.8z\"></path></svg></button></div></div>\n",
      "<div class=\"WjVFB823\"><div class=\"IE8ecQMQ\"><span class=\"ycHdAQ4U jMF46RP6\">Sep 2, 2025</span></div><h3 class=\"HNChVRGc\"><a class=\"_1-FLFW4R\" href=\"https://www.forbes.com/sites/iainmartin/2025/09/02/how-an-ai-notetaker-became-one-of-the-few-profitable-ai-startups/\" rel=\"\" target=\"_self\">How An AI Notetaker Became One Of The Few Profitable AI Startups</a></h3><p class=\"_5v7prWgS\"><span class=\"Ccg9Ib-7\" style=\"-webkit-line-clamp:3\">Nathan Xu’s Plaud has sold more than 1 million AI recording devices that transcribe and summarize the busy days of doctors, lawyers and business people.</span></p><div class=\"Na3NTglQ _51GWpoAk _0AGvFFWM\"><p class=\"ujvJmzbB\">By<a aria-label=\"Iain Martin\" class=\"_4tin10wS YbfXuVMn\" href=\"https://www.forbes.com/sites/iainmartin/\" target=\"_self\" title=\"https://www.forbes.com/sites/iainmartin/\">Iain Martin</a><span class=\"S7tzPEZ-\">,</span></p><p class=\"AtUb4gy8\">Forbes Staff</p></div><div class=\"klKBDGvF\"><button aria-label=\"save article\" class=\"sElHJWe4 NQX0jJYe\" data-theme=\"light\" disabled=\"\" type=\"button\"><svg class=\"fs-icon fs-icon--saved-article\" viewbox=\"0 0 20 20\" x=\"0\" xml:space=\"preserve\" xmlns=\"http://www.w3.org/2000/svg\" y=\"0\"><path d=\"M13.9 3c.7 0 1.3.6 1.3 1.3V17L10 13.9 4.8 17V4.3c0-.7.5-1.3 1.3-1.3h7.8z\"></path></svg></button></div></div>\n",
      "<div class=\"WjVFB823\"><div class=\"IE8ecQMQ\"><span class=\"ycHdAQ4U jMF46RP6\">Sep 2, 2025</span></div><h3 class=\"HNChVRGc\"><a class=\"_1-FLFW4R\" href=\"https://www.forbes.com/sites/jeremybogaisky/2025/08/29/moon-mining-heiium-interlune/\" rel=\"\" target=\"_self\">This Startup Is Racing To Be The First To Mine Helium On The Moon</a></h3><p class=\"_5v7prWgS\"><span class=\"Ccg9Ib-7\" style=\"-webkit-line-clamp:3\">Interlune is developing robots to harvest a valuable gas on the lunar surface that could have a big impact on Earth. </span></p><div class=\"Na3NTglQ _51GWpoAk _0AGvFFWM\"><p class=\"ujvJmzbB\">By<a aria-label=\"Jeremy Bogaisky\" class=\"_4tin10wS YbfXuVMn\" href=\"https://www.forbes.com/sites/jeremybogaisky/\" target=\"_self\" title=\"https://www.forbes.com/sites/jeremybogaisky/\">Jeremy Bogaisky</a><span class=\"S7tzPEZ-\">,</span></p><p class=\"AtUb4gy8\">Forbes Staff</p></div><div class=\"klKBDGvF\"><button aria-label=\"save article\" class=\"sElHJWe4 NQX0jJYe\" data-theme=\"light\" disabled=\"\" type=\"button\"><svg class=\"fs-icon fs-icon--saved-article\" viewbox=\"0 0 20 20\" x=\"0\" xml:space=\"preserve\" xmlns=\"http://www.w3.org/2000/svg\" y=\"0\"><path d=\"M13.9 3c.7 0 1.3.6 1.3 1.3V17L10 13.9 4.8 17V4.3c0-.7.5-1.3 1.3-1.3h7.8z\"></path></svg></button></div></div>\n",
      "<div class=\"WjVFB823\"><div class=\"IE8ecQMQ\"><span class=\"ycHdAQ4U jMF46RP6\">Sep 1, 2025</span></div><h3 class=\"HNChVRGc\"><a class=\"_1-FLFW4R\" href=\"https://www.forbes.com/sites/giacomotognini/2025/09/01/chicagos-hot-dog-king-dick-portillo-on-selling-out-and-moving-on/\" rel=\"\" target=\"_self\">Chicago’s Hot Dog King Dick Portillo On Selling Out And Moving On</a></h3><p class=\"_5v7prWgS\"><span class=\"Ccg9Ib-7\" style=\"-webkit-line-clamp:3\">Dick Portillo built his hot dog chain Portillo's over 50 years and sold it for nearly $1 billion in 2014. Then he retired and assembled a new restaurant and real estate empire.</span></p><div class=\"Na3NTglQ _51GWpoAk _0AGvFFWM\"><p class=\"ujvJmzbB\">By<a aria-label=\"Giacomo Tognini\" class=\"_4tin10wS YbfXuVMn\" href=\"https://www.forbes.com/sites/giacomotognini/\" target=\"_self\" title=\"https://www.forbes.com/sites/giacomotognini/\">Giacomo Tognini</a><span class=\"S7tzPEZ-\">,</span></p><p class=\"AtUb4gy8\">Forbes Staff</p></div><div class=\"klKBDGvF\"><button aria-label=\"save article\" class=\"sElHJWe4 NQX0jJYe\" data-theme=\"light\" disabled=\"\" type=\"button\"><svg class=\"fs-icon fs-icon--saved-article\" viewbox=\"0 0 20 20\" x=\"0\" xml:space=\"preserve\" xmlns=\"http://www.w3.org/2000/svg\" y=\"0\"><path d=\"M13.9 3c.7 0 1.3.6 1.3 1.3V17L10 13.9 4.8 17V4.3c0-.7.5-1.3 1.3-1.3h7.8z\"></path></svg></button></div></div>\n",
      "<div class=\"WjVFB823\"><div class=\"IE8ecQMQ\"><span class=\"ycHdAQ4U jMF46RP6\">Sep 1, 2025</span></div><h3 class=\"HNChVRGc\"><a class=\"_1-FLFW4R\" href=\"https://www.forbes.com/sites/forbeswealthteam/article/the-top-ten-richest-people-in-the-world/\" rel=\"\" target=\"_self\">The Top 10 Richest People In The World | September 2025</a></h3><p class=\"_5v7prWgS\"><span class=\"Ccg9Ib-7\" style=\"-webkit-line-clamp:3\">Google cofounders are the past month's biggest gainers while the world's richest person Elon Musk widens the gap between him and everyone else. </span></p><div class=\"Na3NTglQ _51GWpoAk _0AGvFFWM\"><p class=\"ujvJmzbB\">By<a aria-label=\"Forbes Wealth Team\" class=\"_4tin10wS YbfXuVMn\" href=\"https://www.forbes.com/sites/forbeswealthteam/\" target=\"_self\" title=\"https://www.forbes.com/sites/forbeswealthteam/\">Forbes Wealth Team</a><span class=\"S7tzPEZ-\">,</span></p><p class=\"AtUb4gy8\">Forbes Staff</p></div><div class=\"klKBDGvF\"><button aria-label=\"save article\" class=\"sElHJWe4 NQX0jJYe\" data-theme=\"light\" disabled=\"\" type=\"button\"><svg class=\"fs-icon fs-icon--saved-article\" viewbox=\"0 0 20 20\" x=\"0\" xml:space=\"preserve\" xmlns=\"http://www.w3.org/2000/svg\" y=\"0\"><path d=\"M13.9 3c.7 0 1.3.6 1.3 1.3V17L10 13.9 4.8 17V4.3c0-.7.5-1.3 1.3-1.3h7.8z\"></path></svg></button></div></div>\n",
      "<div class=\"WjVFB823\"><div class=\"IE8ecQMQ\"><span class=\"ycHdAQ4U jMF46RP6\">Aug 31, 2025</span></div><h3 class=\"HNChVRGc\"><a class=\"_1-FLFW4R\" href=\"https://www.forbes.com/sites/simonemelvin/2025/08/31/how-protein-packed-junk-food-could-make-america-fit-again/\" rel=\"\" target=\"_self\">How Protein-Packed Junk Food Could Make America Fit Again</a></h3><p class=\"_5v7prWgS\"><span class=\"Ccg9Ib-7\" style=\"-webkit-line-clamp:3\">Legendary Foods CEO Ron Penna sold his first protein bar company, Quest Nutrition, for $1 billion. His newest flex is selling fitness freaks ‘healthy’ versions of cinnamon rolls, donuts, and mac and cheese—and now brings in $180 million in revenue. \n",
      "</span></p><div class=\"Na3NTglQ _51GWpoAk _0AGvFFWM\"><p class=\"ujvJmzbB\">By<a aria-label=\"Simone Melvin\" class=\"_4tin10wS YbfXuVMn\" href=\"https://www.forbes.com/sites/simonemelvin/\" target=\"_self\" title=\"https://www.forbes.com/sites/simonemelvin/\">Simone Melvin</a><span class=\"S7tzPEZ-\">,</span></p><p class=\"AtUb4gy8\">Forbes Staff</p></div><div class=\"klKBDGvF\"><button aria-label=\"save article\" class=\"sElHJWe4 NQX0jJYe\" data-theme=\"light\" disabled=\"\" type=\"button\"><svg class=\"fs-icon fs-icon--saved-article\" viewbox=\"0 0 20 20\" x=\"0\" xml:space=\"preserve\" xmlns=\"http://www.w3.org/2000/svg\" y=\"0\"><path d=\"M13.9 3c.7 0 1.3.6 1.3 1.3V17L10 13.9 4.8 17V4.3c0-.7.5-1.3 1.3-1.3h7.8z\"></path></svg></button></div></div>\n",
      "<div class=\"WjVFB823\"><div class=\"IE8ecQMQ\"><span class=\"ycHdAQ4U jMF46RP6\">Aug 30, 2025</span></div><h3 class=\"HNChVRGc\"><a class=\"_1-FLFW4R\" href=\"https://www.forbes.com/sites/martinadilicosa/2025/08/30/happy-birthday-warren-buffett-hes-95-and-one-of-36-american-billionaires-over-90/\" rel=\"\" target=\"_self\">Happy Birthday, Warren Buffett! He’s 95 And One Of 36 American Billionaires Over 90</a></h3><p class=\"_5v7prWgS\"><span class=\"Ccg9Ib-7\" style=\"-webkit-line-clamp:3\">America’s billionaires are older than ever, with one in five already in their 80s or 90s. That doesn’t mean they are necessarily slowing down.\n",
      "</span></p><div class=\"Na3NTglQ _51GWpoAk _0AGvFFWM\"><p class=\"ujvJmzbB\">By<a aria-label=\"Martina Di Licosa\" class=\"_4tin10wS YbfXuVMn\" href=\"https://www.forbes.com/sites/martinadilicosa/\" target=\"_self\" title=\"https://www.forbes.com/sites/martinadilicosa/\">Martina Di Licosa</a><span class=\"S7tzPEZ-\">,</span></p><p class=\"AtUb4gy8\">Contributor</p></div><div class=\"klKBDGvF\"><button aria-label=\"save article\" class=\"sElHJWe4 NQX0jJYe\" data-theme=\"light\" disabled=\"\" type=\"button\"><svg class=\"fs-icon fs-icon--saved-article\" viewbox=\"0 0 20 20\" x=\"0\" xml:space=\"preserve\" xmlns=\"http://www.w3.org/2000/svg\" y=\"0\"><path d=\"M13.9 3c.7 0 1.3.6 1.3 1.3V17L10 13.9 4.8 17V4.3c0-.7.5-1.3 1.3-1.3h7.8z\"></path></svg></button></div></div>\n",
      "<div class=\"WjVFB823\"><div class=\"IE8ecQMQ\"><span class=\"ycHdAQ4U jMF46RP6\">Aug 29, 2025</span></div><h3 class=\"HNChVRGc\"><a class=\"_1-FLFW4R\" href=\"https://www.forbes.com/sites/sofiachierchio/2025/08/29/college-football-teams-desperate-for-cash-to-pay-players-are-rushing-to-add-premium-seats/\" rel=\"\" target=\"_self\">College Football Teams, Desperate For Cash To Pay Players, Are Rushing To Add Premium Seats</a></h3><p class=\"_5v7prWgS\"><span class=\"Ccg9Ib-7\" style=\"-webkit-line-clamp:3\">An NCAA settlement introducing revenue sharing is set to strain school budgets. The most obvious solution: pass the cost on to the most loyal and deep-pocketed fans.</span></p><div class=\"Na3NTglQ _51GWpoAk _0AGvFFWM\"><p class=\"ujvJmzbB\">By<a aria-label=\"Sofia Chierchio\" class=\"_4tin10wS YbfXuVMn\" href=\"https://www.forbes.com/sites/sofiachierchio/\" target=\"_self\" title=\"https://www.forbes.com/sites/sofiachierchio/\">Sofia Chierchio</a><span class=\"S7tzPEZ-\">,</span></p><p class=\"AtUb4gy8\">Forbes Staff</p></div><div class=\"klKBDGvF\"><button aria-label=\"save article\" class=\"sElHJWe4 NQX0jJYe\" data-theme=\"light\" disabled=\"\" type=\"button\"><svg class=\"fs-icon fs-icon--saved-article\" viewbox=\"0 0 20 20\" x=\"0\" xml:space=\"preserve\" xmlns=\"http://www.w3.org/2000/svg\" y=\"0\"><path d=\"M13.9 3c.7 0 1.3.6 1.3 1.3V17L10 13.9 4.8 17V4.3c0-.7.5-1.3 1.3-1.3h7.8z\"></path></svg></button></div></div>\n",
      "<div class=\"WjVFB823\"><div class=\"IE8ecQMQ\"><span class=\"ycHdAQ4U jMF46RP6\">Aug 29, 2025</span></div><h3 class=\"HNChVRGc\"><a class=\"_1-FLFW4R\" href=\"https://www.forbes.com/sites/forbestravelguide/2025/08/29/forbes-travel-guides-most-anticipated-hotel-openings-for-fall-2025/\" rel=\"\" target=\"_self\">Forbes Travel Guide’s Most Anticipated Hotel Openings For Fall 2025</a></h3><p class=\"_5v7prWgS\"><span class=\"Ccg9Ib-7\" style=\"-webkit-line-clamp:3\">From Lake Como to Los Cabos, these 11 new properties offer every amenity under the sun—from a floating pool to a private ski lodge\n",
      "</span></p><div class=\"Na3NTglQ _51GWpoAk _0AGvFFWM\"><p class=\"ujvJmzbB\">By<a aria-label=\"Jennifer Kester\" class=\"_4tin10wS YbfXuVMn\" href=\"https://www.forbes.com/sites/forbestravelguide/people/jenkester/\" target=\"_self\" title=\"https://www.forbes.com/sites/forbestravelguide/people/jenkester/\">Jennifer Kester</a><span class=\"S7tzPEZ-\">,</span></p><p class=\"AtUb4gy8\">Contributor</p></div><div class=\"klKBDGvF\"><button aria-label=\"save article\" class=\"sElHJWe4 NQX0jJYe\" data-theme=\"light\" disabled=\"\" type=\"button\"><svg class=\"fs-icon fs-icon--saved-article\" viewbox=\"0 0 20 20\" x=\"0\" xml:space=\"preserve\" xmlns=\"http://www.w3.org/2000/svg\" y=\"0\"><path d=\"M13.9 3c.7 0 1.3.6 1.3 1.3V17L10 13.9 4.8 17V4.3c0-.7.5-1.3 1.3-1.3h7.8z\"></path></svg></button></div></div>\n",
      "<div class=\"WjVFB823\"><div class=\"IE8ecQMQ\"><span class=\"ycHdAQ4U jMF46RP6\">Aug 28, 2025</span></div><h3 class=\"HNChVRGc\"><a class=\"_1-FLFW4R\" href=\"https://www.forbes.com/sites/monicahunter-hart/2025/08/28/charles-ergens-net-worth-doubles-after-controversial-att-sale/\" rel=\"\" target=\"_self\">Charles Ergen’s Net Worth Doubles After Controversial AT&amp;T Sale</a></h3><p class=\"_5v7prWgS\"><span class=\"Ccg9Ib-7\" style=\"-webkit-line-clamp:3\">Charles Ergen's wealth jumped after announcing plans to unload some of EchoStar's spectrum for $23 billion. The move killed any dreams of his nationwide 5G network.</span></p><div class=\"Na3NTglQ _51GWpoAk _0AGvFFWM\"><p class=\"ujvJmzbB\">By<a aria-label=\"Monica Hunter-Hart\" class=\"_4tin10wS YbfXuVMn\" href=\"https://www.forbes.com/sites/monicahunter-hart/\" target=\"_self\" title=\"https://www.forbes.com/sites/monicahunter-hart/\">Monica Hunter-Hart</a><span class=\"S7tzPEZ-\">,</span></p><p class=\"AtUb4gy8\">Forbes Staff</p></div><div class=\"klKBDGvF\"><button aria-label=\"save article\" class=\"sElHJWe4 NQX0jJYe\" data-theme=\"light\" disabled=\"\" type=\"button\"><svg class=\"fs-icon fs-icon--saved-article\" viewbox=\"0 0 20 20\" x=\"0\" xml:space=\"preserve\" xmlns=\"http://www.w3.org/2000/svg\" y=\"0\"><path d=\"M13.9 3c.7 0 1.3.6 1.3 1.3V17L10 13.9 4.8 17V4.3c0-.7.5-1.3 1.3-1.3h7.8z\"></path></svg></button></div></div>\n",
      "<div class=\"WjVFB823\"><div class=\"IE8ecQMQ\"><span class=\"ycHdAQ4U jMF46RP6\">Aug 28, 2025</span></div><h3 class=\"HNChVRGc\"><a class=\"_1-FLFW4R\" href=\"https://www.forbes.com/sites/justinteitelbaum/2025/08/28/the-nfls-most-valuable-teams-2025/\" rel=\"\" target=\"_self\">The NFL’s Most Valuable Teams 2025</a></h3><p class=\"_5v7prWgS\"><span class=\"Ccg9Ib-7\" style=\"-webkit-line-clamp:3\">Forbes' 2025 list of NFL team valuations features a new record by the No. 1 Dallas Cowboys. See the full ranking of all 32 franchises—each worth at least $5 billion.</span></p><div class=\"Na3NTglQ _51GWpoAk _0AGvFFWM\"><p class=\"ujvJmzbB\">By<a aria-label=\"Justin Teitelbaum\" class=\"_4tin10wS YbfXuVMn\" href=\"https://www.forbes.com/sites/justinteitelbaum/\" target=\"_self\" title=\"https://www.forbes.com/sites/justinteitelbaum/\">Justin Teitelbaum</a><span class=\"S7tzPEZ-\">,</span></p><p class=\"AtUb4gy8\">Forbes Staff</p></div><div class=\"klKBDGvF\"><button aria-label=\"save article\" class=\"sElHJWe4 NQX0jJYe\" data-theme=\"light\" disabled=\"\" type=\"button\"><svg class=\"fs-icon fs-icon--saved-article\" viewbox=\"0 0 20 20\" x=\"0\" xml:space=\"preserve\" xmlns=\"http://www.w3.org/2000/svg\" y=\"0\"><path d=\"M13.9 3c.7 0 1.3.6 1.3 1.3V17L10 13.9 4.8 17V4.3c0-.7.5-1.3 1.3-1.3h7.8z\"></path></svg></button></div></div>\n",
      "<div class=\"WjVFB823\"><div class=\"IE8ecQMQ\"><span class=\"ycHdAQ4U jMF46RP6\">Aug 27, 2025</span></div><h3 class=\"HNChVRGc\"><a class=\"_1-FLFW4R\" href=\"https://www.forbes.com/sites/brandonkochkodin/2025/08/27/heres-why-old-homes-suddenly-cost-more-than-shiny-new-ones/\" rel=\"\" target=\"_self\">Here’s Why Old Homes Suddenly Cost More Than New Ones</a></h3><p class=\"_5v7prWgS\"><span class=\"Ccg9Ib-7\" style=\"-webkit-line-clamp:3\">Old homes cost more than new ones in 2025. June data: existing homes at $441,500, new homes at $401,800. Why the switch? Check the numbers under the surface.</span></p><div class=\"Na3NTglQ _51GWpoAk _0AGvFFWM\"><p class=\"ujvJmzbB\">By<a aria-label=\"Brandon Kochkodin\" class=\"_4tin10wS YbfXuVMn\" href=\"https://www.forbes.com/sites/brandonkochkodin/\" target=\"_self\" title=\"https://www.forbes.com/sites/brandonkochkodin/\">Brandon Kochkodin</a><span class=\"S7tzPEZ-\">,</span></p><p class=\"AtUb4gy8\">Forbes Staff</p></div><div class=\"klKBDGvF\"><button aria-label=\"save article\" class=\"sElHJWe4 NQX0jJYe\" data-theme=\"light\" disabled=\"\" type=\"button\"><svg class=\"fs-icon fs-icon--saved-article\" viewbox=\"0 0 20 20\" x=\"0\" xml:space=\"preserve\" xmlns=\"http://www.w3.org/2000/svg\" y=\"0\"><path d=\"M13.9 3c.7 0 1.3.6 1.3 1.3V17L10 13.9 4.8 17V4.3c0-.7.5-1.3 1.3-1.3h7.8z\"></path></svg></button></div></div>\n",
      "<div class=\"WjVFB823\"><div class=\"IE8ecQMQ\"><span class=\"ycHdAQ4U jMF46RP6\">Aug 27, 2025</span></div><h3 class=\"HNChVRGc\"><a class=\"_1-FLFW4R\" href=\"https://www.forbes.com/sites/sergeiklebnikov/2025/08/27/trumps-tariff-tidal-wave-could-drown-this-coconut-water-juggernaut/\" rel=\"\" target=\"_self\">Trump’s Tariff Tidal Wave Could Drown This Coconut Water Juggernaut</a></h3><p class=\"_5v7prWgS\"><span class=\"Ccg9Ib-7\" style=\"-webkit-line-clamp:3\">When it comes to selling coconut water to the health obsessed, New York’s Vita Coco has served up a master class, schooling even giant rivals like Coke and Pepsi. Its next test will be withstanding Trump’s tariff shocks.</span></p><div class=\"Na3NTglQ _51GWpoAk _0AGvFFWM\"><p class=\"ujvJmzbB\">By<a aria-label=\"Sergei Klebnikov\" class=\"_4tin10wS YbfXuVMn\" href=\"https://www.forbes.com/sites/sergeiklebnikov/\" target=\"_self\" title=\"https://www.forbes.com/sites/sergeiklebnikov/\">Sergei Klebnikov</a><span class=\"S7tzPEZ-\">,</span></p><p class=\"AtUb4gy8\">Forbes Staff</p></div><div class=\"klKBDGvF\"><button aria-label=\"save article\" class=\"sElHJWe4 NQX0jJYe\" data-theme=\"light\" disabled=\"\" type=\"button\"><svg class=\"fs-icon fs-icon--saved-article\" viewbox=\"0 0 20 20\" x=\"0\" xml:space=\"preserve\" xmlns=\"http://www.w3.org/2000/svg\" y=\"0\"><path d=\"M13.9 3c.7 0 1.3.6 1.3 1.3V17L10 13.9 4.8 17V4.3c0-.7.5-1.3 1.3-1.3h7.8z\"></path></svg></button></div></div>\n",
      "<div class=\"WjVFB823\"><div class=\"IE8ecQMQ\"><span class=\"ycHdAQ4U jMF46RP6\">Aug 26, 2025</span></div><h3 class=\"HNChVRGc\"><a class=\"_1-FLFW4R\" href=\"https://www.forbes.com/sites/martinadilicosa/2025/08/26/heres-how-much-taylor-swift-and-travis-kelce-are-worth/\" rel=\"\" target=\"_self\">Here’s How Much Taylor Swift And Travis Kelce Are Worth</a></h3><p class=\"_5v7prWgS\"><span class=\"Ccg9Ib-7\" style=\"-webkit-line-clamp:3\">The billionaire pop star and three-time Super Bowl champion are engaged, but no “gym teacher” could afford to propose to an “English teacher” with a $650,000 diamond ring. </span></p><div class=\"Na3NTglQ _51GWpoAk _0AGvFFWM\"><p class=\"ujvJmzbB\">By<a aria-label=\"Martina Di Licosa\" class=\"_4tin10wS YbfXuVMn\" href=\"https://www.forbes.com/sites/martinadilicosa/\" target=\"_self\" title=\"https://www.forbes.com/sites/martinadilicosa/\">Martina Di Licosa</a><span class=\"S7tzPEZ-\">,</span></p><p class=\"AtUb4gy8\">Contributor</p></div><div class=\"klKBDGvF\"><button aria-label=\"save article\" class=\"sElHJWe4 NQX0jJYe\" data-theme=\"light\" disabled=\"\" type=\"button\"><svg class=\"fs-icon fs-icon--saved-article\" viewbox=\"0 0 20 20\" x=\"0\" xml:space=\"preserve\" xmlns=\"http://www.w3.org/2000/svg\" y=\"0\"><path d=\"M13.9 3c.7 0 1.3.6 1.3 1.3V17L10 13.9 4.8 17V4.3c0-.7.5-1.3 1.3-1.3h7.8z\"></path></svg></button></div></div>\n"
     ]
    }
   ],
   "source": [
    "topics_df['Article'] = 'NaN'\n",
    "\n",
    "for i in range(0,5):\n",
    "  topic_df = pd.DataFrame(columns=['Article Name', 'Description', 'Author(s)', 'Author Type(s)', 'Date','URL'])\n",
    "\n",
    "  topic_name = topics_df['Topic'][i]\n",
    "  topic_url = topics_df['URL'][i]\n",
    "\n",
    "  try:\n",
    "    doc = requests.get(topic_url).text\n",
    "  except:\n",
    "    continue\n",
    "  \n",
    "  desc_tags = BeautifulSoup(doc, \"html.parser\").find_all('span', {'style': '-webkit-line-clamp:3'})\n",
    "  \n",
    "  for desc_tag in desc_tags:\n",
    "    \n",
    "    content_tag = desc_tag.parent.parent\n",
    "    title_tag = content_tag.find('a')\n",
    "\n",
    "    print(content_tag)\n",
    "    \n",
    "    topic_df.loc[len(topic_df), ['Article Name', 'Description','URL']] = [title_tag.text, desc_tag.text, title_tag['href']]\n",
    "\n",
    "  for article_url in topic_df['URL']:\n",
    "    try:\n",
    "      doc = requests.get(article_url).text\n",
    "    except:\n",
    "      continue  \n",
    "\n",
    "  bad_chars = ['/','*','?',':','\\\\','<','>','|']\n",
    "  file_name = ''\n",
    "  for char in topic_name:\n",
    "    if not char in bad_chars:\n",
    "      file_name += char\n",
    "    else:\n",
    "      file_name += '...'\n",
    "\n",
    "  topic_df.to_csv(f'data/topics/{file_name}.csv')"
   ]
  },
  {
   "cell_type": "code",
   "execution_count": null,
   "id": "67fea546",
   "metadata": {},
   "outputs": [],
   "source": []
  }
 ],
 "metadata": {
  "kernelspec": {
   "display_name": ".venv",
   "language": "python",
   "name": "python3"
  },
  "language_info": {
   "codemirror_mode": {
    "name": "ipython",
    "version": 3
   },
   "file_extension": ".py",
   "mimetype": "text/x-python",
   "name": "python",
   "nbconvert_exporter": "python",
   "pygments_lexer": "ipython3",
   "version": "3.13.7"
  }
 },
 "nbformat": 4,
 "nbformat_minor": 5
}
